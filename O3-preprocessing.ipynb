{
 "cells": [
  {
   "cell_type": "markdown",
   "id": "52414876-5400-4a00-bbc3-1516a207730c",
   "metadata": {},
   "source": [
    "# Preprocessing of O3 data"
   ]
  },
  {
   "cell_type": "markdown",
   "id": "bfd1eb1a-4165-444e-b8ad-b8a1806c78f5",
   "metadata": {},
   "source": [
    "## A note on units"
   ]
  },
  {
   "cell_type": "markdown",
   "id": "87ff120e-3724-4afe-bb5f-363db7ec6397",
   "metadata": {},
   "source": [
    "Units are not specified directly within the processed data file, `cleaned_O3_data.csv`. Units of measure are:\n",
    "* `O3`: ozone, in ppb (parts per billion)\n",
    "* `T`: air temperature, in degrees Fahrenheit\n",
    "* `WD`: wind direction, in degrees\n",
    "* `WS`: wind speed, in mph (miles per hour), average hourly"
   ]
  },
  {
   "cell_type": "markdown",
   "id": "937b0ed8-e801-45c6-9ee9-8e105f9950df",
   "metadata": {},
   "source": [
    "## Import the required modules"
   ]
  },
  {
   "cell_type": "code",
   "execution_count": 1,
   "id": "1c081534-2444-46b9-a61f-91a9ba8f4975",
   "metadata": {},
   "outputs": [],
   "source": [
    "import pandas as pd\n",
    "import numpy as np"
   ]
  },
  {
   "cell_type": "code",
   "execution_count": 2,
   "id": "dec4b758-0c38-4527-9da2-08de1befb192",
   "metadata": {},
   "outputs": [],
   "source": [
    "from sklearn.pipeline import Pipeline\n",
    "from sklearn.preprocessing import StandardScaler, MinMaxScaler, FunctionTransformer\n",
    "from sklearn.compose import ColumnTransformer, make_column_selector"
   ]
  },
  {
   "cell_type": "markdown",
   "id": "047e8bba-88bc-40e3-8807-532258f8703e",
   "metadata": {},
   "source": [
    "## Import the processed data"
   ]
  },
  {
   "cell_type": "code",
   "execution_count": 3,
   "id": "d92c605e-3cc7-4459-936d-0a362c3a270c",
   "metadata": {
    "tags": []
   },
   "outputs": [
    {
     "data": {
      "text/html": [
       "<div>\n",
       "<style scoped>\n",
       "    .dataframe tbody tr th:only-of-type {\n",
       "        vertical-align: middle;\n",
       "    }\n",
       "\n",
       "    .dataframe tbody tr th {\n",
       "        vertical-align: top;\n",
       "    }\n",
       "\n",
       "    .dataframe thead th {\n",
       "        text-align: right;\n",
       "    }\n",
       "</style>\n",
       "<table border=\"1\" class=\"dataframe\">\n",
       "  <thead>\n",
       "    <tr style=\"text-align: right;\">\n",
       "      <th></th>\n",
       "      <th>DateTime</th>\n",
       "      <th>Year</th>\n",
       "      <th>Month</th>\n",
       "      <th>DayOfMonth</th>\n",
       "      <th>DayOfWeek</th>\n",
       "      <th>DayOfYear</th>\n",
       "      <th>Hour</th>\n",
       "      <th>O3</th>\n",
       "      <th>T</th>\n",
       "      <th>WS</th>\n",
       "      <th>WD</th>\n",
       "      <th>ExceedsLimit</th>\n",
       "    </tr>\n",
       "  </thead>\n",
       "  <tbody>\n",
       "    <tr>\n",
       "      <th>0</th>\n",
       "      <td>2000-01-01 00:00:00</td>\n",
       "      <td>2000</td>\n",
       "      <td>1</td>\n",
       "      <td>1</td>\n",
       "      <td>5</td>\n",
       "      <td>1</td>\n",
       "      <td>0</td>\n",
       "      <td>1.0</td>\n",
       "      <td>53.5</td>\n",
       "      <td>0.6</td>\n",
       "      <td>356.6</td>\n",
       "      <td>False</td>\n",
       "    </tr>\n",
       "    <tr>\n",
       "      <th>1</th>\n",
       "      <td>2000-01-01 01:00:00</td>\n",
       "      <td>2000</td>\n",
       "      <td>1</td>\n",
       "      <td>1</td>\n",
       "      <td>5</td>\n",
       "      <td>1</td>\n",
       "      <td>1</td>\n",
       "      <td>1.0</td>\n",
       "      <td>53.6</td>\n",
       "      <td>1.1</td>\n",
       "      <td>0.7</td>\n",
       "      <td>False</td>\n",
       "    </tr>\n",
       "    <tr>\n",
       "      <th>2</th>\n",
       "      <td>2000-01-01 02:00:00</td>\n",
       "      <td>2000</td>\n",
       "      <td>1</td>\n",
       "      <td>1</td>\n",
       "      <td>5</td>\n",
       "      <td>1</td>\n",
       "      <td>2</td>\n",
       "      <td>1.0</td>\n",
       "      <td>53.8</td>\n",
       "      <td>1.0</td>\n",
       "      <td>15.4</td>\n",
       "      <td>False</td>\n",
       "    </tr>\n",
       "    <tr>\n",
       "      <th>3</th>\n",
       "      <td>2000-01-01 03:00:00</td>\n",
       "      <td>2000</td>\n",
       "      <td>1</td>\n",
       "      <td>1</td>\n",
       "      <td>5</td>\n",
       "      <td>1</td>\n",
       "      <td>3</td>\n",
       "      <td>2.0</td>\n",
       "      <td>53.6</td>\n",
       "      <td>1.3</td>\n",
       "      <td>33.8</td>\n",
       "      <td>False</td>\n",
       "    </tr>\n",
       "    <tr>\n",
       "      <th>4</th>\n",
       "      <td>2000-01-01 04:00:00</td>\n",
       "      <td>2000</td>\n",
       "      <td>1</td>\n",
       "      <td>1</td>\n",
       "      <td>5</td>\n",
       "      <td>1</td>\n",
       "      <td>4</td>\n",
       "      <td>0.0</td>\n",
       "      <td>53.4</td>\n",
       "      <td>1.9</td>\n",
       "      <td>30.6</td>\n",
       "      <td>False</td>\n",
       "    </tr>\n",
       "  </tbody>\n",
       "</table>\n",
       "</div>"
      ],
      "text/plain": [
       "             DateTime  Year  Month  DayOfMonth  DayOfWeek  DayOfYear  Hour  \\\n",
       "0 2000-01-01 00:00:00  2000      1           1          5          1     0   \n",
       "1 2000-01-01 01:00:00  2000      1           1          5          1     1   \n",
       "2 2000-01-01 02:00:00  2000      1           1          5          1     2   \n",
       "3 2000-01-01 03:00:00  2000      1           1          5          1     3   \n",
       "4 2000-01-01 04:00:00  2000      1           1          5          1     4   \n",
       "\n",
       "    O3     T   WS     WD  ExceedsLimit  \n",
       "0  1.0  53.5  0.6  356.6         False  \n",
       "1  1.0  53.6  1.1    0.7         False  \n",
       "2  1.0  53.8  1.0   15.4         False  \n",
       "3  2.0  53.6  1.3   33.8         False  \n",
       "4  0.0  53.4  1.9   30.6         False  "
      ]
     },
     "execution_count": 3,
     "metadata": {},
     "output_type": "execute_result"
    }
   ],
   "source": [
    "df = pd.read_csv(\"cleaned_data/cleaned_O3_data.csv\")\n",
    "df[\"DateTime\"] = pd.to_datetime(df[\"DateTime\"])\n",
    "df.head()"
   ]
  },
  {
   "cell_type": "markdown",
   "id": "18b2c0c4-758e-422a-b96e-c335e9c538f2",
   "metadata": {},
   "source": [
    "## Drop rows with NaN values"
   ]
  },
  {
   "cell_type": "code",
   "execution_count": 4,
   "id": "ca6323bf-e446-41fb-8dbe-8e19b38d06e5",
   "metadata": {},
   "outputs": [],
   "source": [
    "df.dropna(how = \"any\", inplace = True)"
   ]
  },
  {
   "cell_type": "code",
   "execution_count": 5,
   "id": "147ab813-2b0b-4eca-983a-5472d95b52e3",
   "metadata": {
    "tags": []
   },
   "outputs": [
    {
     "data": {
      "text/html": [
       "<div>\n",
       "<style scoped>\n",
       "    .dataframe tbody tr th:only-of-type {\n",
       "        vertical-align: middle;\n",
       "    }\n",
       "\n",
       "    .dataframe tbody tr th {\n",
       "        vertical-align: top;\n",
       "    }\n",
       "\n",
       "    .dataframe thead th {\n",
       "        text-align: right;\n",
       "    }\n",
       "</style>\n",
       "<table border=\"1\" class=\"dataframe\">\n",
       "  <thead>\n",
       "    <tr style=\"text-align: right;\">\n",
       "      <th></th>\n",
       "      <th>DateTime</th>\n",
       "      <th>Year</th>\n",
       "      <th>Month</th>\n",
       "      <th>DayOfMonth</th>\n",
       "      <th>DayOfWeek</th>\n",
       "      <th>DayOfYear</th>\n",
       "      <th>Hour</th>\n",
       "      <th>O3</th>\n",
       "      <th>T</th>\n",
       "      <th>WS</th>\n",
       "      <th>WD</th>\n",
       "      <th>ExceedsLimit</th>\n",
       "    </tr>\n",
       "  </thead>\n",
       "  <tbody>\n",
       "    <tr>\n",
       "      <th>count</th>\n",
       "      <td>157137</td>\n",
       "      <td>157137</td>\n",
       "      <td>157137</td>\n",
       "      <td>157137</td>\n",
       "      <td>157137</td>\n",
       "      <td>157137</td>\n",
       "      <td>157137</td>\n",
       "      <td>157137</td>\n",
       "      <td>157137</td>\n",
       "      <td>157137</td>\n",
       "      <td>157137</td>\n",
       "      <td>157137</td>\n",
       "    </tr>\n",
       "    <tr>\n",
       "      <th>unique</th>\n",
       "      <td>1</td>\n",
       "      <td>1</td>\n",
       "      <td>1</td>\n",
       "      <td>1</td>\n",
       "      <td>1</td>\n",
       "      <td>1</td>\n",
       "      <td>1</td>\n",
       "      <td>1</td>\n",
       "      <td>1</td>\n",
       "      <td>1</td>\n",
       "      <td>1</td>\n",
       "      <td>1</td>\n",
       "    </tr>\n",
       "    <tr>\n",
       "      <th>top</th>\n",
       "      <td>False</td>\n",
       "      <td>False</td>\n",
       "      <td>False</td>\n",
       "      <td>False</td>\n",
       "      <td>False</td>\n",
       "      <td>False</td>\n",
       "      <td>False</td>\n",
       "      <td>False</td>\n",
       "      <td>False</td>\n",
       "      <td>False</td>\n",
       "      <td>False</td>\n",
       "      <td>False</td>\n",
       "    </tr>\n",
       "    <tr>\n",
       "      <th>freq</th>\n",
       "      <td>157137</td>\n",
       "      <td>157137</td>\n",
       "      <td>157137</td>\n",
       "      <td>157137</td>\n",
       "      <td>157137</td>\n",
       "      <td>157137</td>\n",
       "      <td>157137</td>\n",
       "      <td>157137</td>\n",
       "      <td>157137</td>\n",
       "      <td>157137</td>\n",
       "      <td>157137</td>\n",
       "      <td>157137</td>\n",
       "    </tr>\n",
       "  </tbody>\n",
       "</table>\n",
       "</div>"
      ],
      "text/plain": [
       "       DateTime    Year   Month DayOfMonth DayOfWeek DayOfYear    Hour  \\\n",
       "count    157137  157137  157137     157137    157137    157137  157137   \n",
       "unique        1       1       1          1         1         1       1   \n",
       "top       False   False   False      False     False     False   False   \n",
       "freq     157137  157137  157137     157137    157137    157137  157137   \n",
       "\n",
       "            O3       T      WS      WD ExceedsLimit  \n",
       "count   157137  157137  157137  157137       157137  \n",
       "unique       1       1       1       1            1  \n",
       "top      False   False   False   False        False  \n",
       "freq    157137  157137  157137  157137       157137  "
      ]
     },
     "execution_count": 5,
     "metadata": {},
     "output_type": "execute_result"
    }
   ],
   "source": [
    "df.isna().describe()"
   ]
  },
  {
   "cell_type": "markdown",
   "id": "ab163878-2241-4ac5-843c-86ad640c014d",
   "metadata": {},
   "source": [
    "## Preprocessing setup: Prepare to restructure tabular data"
   ]
  },
  {
   "cell_type": "markdown",
   "id": "c98f3bad-5ad2-48ce-bb55-7a886a7dd6e3",
   "metadata": {},
   "source": [
    "The data must be restructured to prepare for timeseries learning. Create a function to convert the tabular data into windowed format, in which each `O3` value for prediction is paired with an array of historical feature data (including historical `O3` information) over a given window size."
   ]
  },
  {
   "cell_type": "code",
   "execution_count": 6,
   "id": "47e65049-9970-407b-bd83-d07da318ae1d",
   "metadata": {},
   "outputs": [],
   "source": [
    "def structure_timeseries(df = None,\n",
    "                         y_col = None,\n",
    "                         dt_col = None,\n",
    "                         window = None,\n",
    "                         use_array = True):\n",
    "    \n",
    "    \"\"\"Prepares tabular data for timeseries learning by converting to a windowed format.\n",
    "    The returned features are listed in reverse chronological order.\n",
    "    \n",
    "    Keyword arguments:\n",
    "         df = time series features as a pandas dataframe,\n",
    "         y_col = column name containing the label to be predicted,\n",
    "         dt_col = column name containing the date/time stamp,\n",
    "         window = number of historical feature rows to be used in\n",
    "                  generating a prediction.\n",
    "         use_array = boolean. Returned the processed features as a numpy array\n",
    "                     (default) or as a pandas dataframe (for diagnostic purposes).    \n",
    "    \"\"\"\n",
    "    \n",
    "    \n",
    "    timeseries_x = []\n",
    "    timeseries_y = []    \n",
    "    timeseries_dt = []\n",
    "\n",
    "    window += 1\n",
    "    \n",
    "    for i in range (window, len(df)):\n",
    "        # Extract a slice of the dataset, with one row larger than is required by the given window.\n",
    "        # The extra row is the \"current\" measurement (datetime, label), and the remaining rows\n",
    "        # are the \"historical\" data (features, labels).\n",
    "        \n",
    "        timestep = df[i:i - window:-1].reset_index(drop = True)\n",
    "        rownames = [\"t-\" + str(j) for j in range(0, window)]\n",
    "        timestep.index = rownames\n",
    "        \n",
    "        dt_stamp = timestep.iloc[0][dt_col]\n",
    "        y = timestep.iloc[0][y_col]\n",
    "        \n",
    "        timestep = timestep.drop([dt_col, y_col], axis = \"columns\")\n",
    "        timestep = timestep.drop(\"t-0\", axis = 0)\n",
    "        \n",
    "        # Append the new windowed data to the relevant processed lists.\n",
    "        # Allow for returning the features as an array or a dataframe\n",
    "        # with labeled rows/columns for diagnostic purposes.\n",
    "        if use_array:\n",
    "            timeseries_x.append(timestep.values)\n",
    "        else:\n",
    "            timeseries_x.append(timestep)\n",
    "        timeseries_y.append(y)\n",
    "        timeseries_dt.append(dt_stamp)\n",
    "    \n",
    "    return timeseries_dt, timeseries_y, timeseries_x"
   ]
  },
  {
   "cell_type": "markdown",
   "id": "32203ace-32d1-4400-99ac-69bf8bcf0d5b",
   "metadata": {},
   "source": [
    "Visually inspect the first few rows to ensure the fuction is behaving as expected:"
   ]
  },
  {
   "cell_type": "code",
   "execution_count": 7,
   "id": "3f914435-b079-4a23-bada-c65363b98a43",
   "metadata": {},
   "outputs": [
    {
     "data": {
      "text/html": [
       "<div>\n",
       "<style scoped>\n",
       "    .dataframe tbody tr th:only-of-type {\n",
       "        vertical-align: middle;\n",
       "    }\n",
       "\n",
       "    .dataframe tbody tr th {\n",
       "        vertical-align: top;\n",
       "    }\n",
       "\n",
       "    .dataframe thead th {\n",
       "        text-align: right;\n",
       "    }\n",
       "</style>\n",
       "<table border=\"1\" class=\"dataframe\">\n",
       "  <thead>\n",
       "    <tr style=\"text-align: right;\">\n",
       "      <th></th>\n",
       "      <th>DateTime</th>\n",
       "      <th>O3</th>\n",
       "      <th>T</th>\n",
       "      <th>WS</th>\n",
       "      <th>WD</th>\n",
       "    </tr>\n",
       "  </thead>\n",
       "  <tbody>\n",
       "    <tr>\n",
       "      <th>0</th>\n",
       "      <td>2000-01-01 00:00:00</td>\n",
       "      <td>1.0</td>\n",
       "      <td>53.5</td>\n",
       "      <td>0.6</td>\n",
       "      <td>356.6</td>\n",
       "    </tr>\n",
       "    <tr>\n",
       "      <th>1</th>\n",
       "      <td>2000-01-01 01:00:00</td>\n",
       "      <td>1.0</td>\n",
       "      <td>53.6</td>\n",
       "      <td>1.1</td>\n",
       "      <td>0.7</td>\n",
       "    </tr>\n",
       "    <tr>\n",
       "      <th>2</th>\n",
       "      <td>2000-01-01 02:00:00</td>\n",
       "      <td>1.0</td>\n",
       "      <td>53.8</td>\n",
       "      <td>1.0</td>\n",
       "      <td>15.4</td>\n",
       "    </tr>\n",
       "    <tr>\n",
       "      <th>3</th>\n",
       "      <td>2000-01-01 03:00:00</td>\n",
       "      <td>2.0</td>\n",
       "      <td>53.6</td>\n",
       "      <td>1.3</td>\n",
       "      <td>33.8</td>\n",
       "    </tr>\n",
       "    <tr>\n",
       "      <th>4</th>\n",
       "      <td>2000-01-01 04:00:00</td>\n",
       "      <td>0.0</td>\n",
       "      <td>53.4</td>\n",
       "      <td>1.9</td>\n",
       "      <td>30.6</td>\n",
       "    </tr>\n",
       "    <tr>\n",
       "      <th>5</th>\n",
       "      <td>2000-01-01 05:00:00</td>\n",
       "      <td>2.0</td>\n",
       "      <td>53.7</td>\n",
       "      <td>5.1</td>\n",
       "      <td>27.1</td>\n",
       "    </tr>\n",
       "    <tr>\n",
       "      <th>6</th>\n",
       "      <td>2000-01-01 06:00:00</td>\n",
       "      <td>1.0</td>\n",
       "      <td>53.9</td>\n",
       "      <td>2.5</td>\n",
       "      <td>37.5</td>\n",
       "    </tr>\n",
       "    <tr>\n",
       "      <th>7</th>\n",
       "      <td>2000-01-01 07:00:00</td>\n",
       "      <td>1.0</td>\n",
       "      <td>53.0</td>\n",
       "      <td>2.7</td>\n",
       "      <td>36.5</td>\n",
       "    </tr>\n",
       "    <tr>\n",
       "      <th>8</th>\n",
       "      <td>2000-01-01 08:00:00</td>\n",
       "      <td>2.0</td>\n",
       "      <td>52.0</td>\n",
       "      <td>3.4</td>\n",
       "      <td>60.6</td>\n",
       "    </tr>\n",
       "    <tr>\n",
       "      <th>9</th>\n",
       "      <td>2000-01-01 09:00:00</td>\n",
       "      <td>4.0</td>\n",
       "      <td>53.1</td>\n",
       "      <td>7.1</td>\n",
       "      <td>83.9</td>\n",
       "    </tr>\n",
       "  </tbody>\n",
       "</table>\n",
       "</div>"
      ],
      "text/plain": [
       "             DateTime   O3     T   WS     WD\n",
       "0 2000-01-01 00:00:00  1.0  53.5  0.6  356.6\n",
       "1 2000-01-01 01:00:00  1.0  53.6  1.1    0.7\n",
       "2 2000-01-01 02:00:00  1.0  53.8  1.0   15.4\n",
       "3 2000-01-01 03:00:00  2.0  53.6  1.3   33.8\n",
       "4 2000-01-01 04:00:00  0.0  53.4  1.9   30.6\n",
       "5 2000-01-01 05:00:00  2.0  53.7  5.1   27.1\n",
       "6 2000-01-01 06:00:00  1.0  53.9  2.5   37.5\n",
       "7 2000-01-01 07:00:00  1.0  53.0  2.7   36.5\n",
       "8 2000-01-01 08:00:00  2.0  52.0  3.4   60.6\n",
       "9 2000-01-01 09:00:00  4.0  53.1  7.1   83.9"
      ]
     },
     "execution_count": 7,
     "metadata": {},
     "output_type": "execute_result"
    }
   ],
   "source": [
    "df = df[[\"DateTime\", \"O3\", \"T\", \"WS\", \"WD\"]]\n",
    "df[:10]"
   ]
  },
  {
   "cell_type": "code",
   "execution_count": 8,
   "id": "3cdb03c6-fbad-448a-be40-f938e756d0cf",
   "metadata": {},
   "outputs": [
    {
     "data": {
      "text/plain": [
       "[(Timestamp('2000-01-01 06:00:00'),\n",
       "  1.0,\n",
       "          T   WS    WD\n",
       "  t-1  53.7  5.1  27.1\n",
       "  t-2  53.4  1.9  30.6\n",
       "  t-3  53.6  1.3  33.8\n",
       "  t-4  53.8  1.0  15.4\n",
       "  t-5  53.6  1.1   0.7),\n",
       " (Timestamp('2000-01-01 07:00:00'),\n",
       "  1.0,\n",
       "          T   WS    WD\n",
       "  t-1  53.9  2.5  37.5\n",
       "  t-2  53.7  5.1  27.1\n",
       "  t-3  53.4  1.9  30.6\n",
       "  t-4  53.6  1.3  33.8\n",
       "  t-5  53.8  1.0  15.4),\n",
       " (Timestamp('2000-01-01 08:00:00'),\n",
       "  2.0,\n",
       "          T   WS    WD\n",
       "  t-1  53.0  2.7  36.5\n",
       "  t-2  53.9  2.5  37.5\n",
       "  t-3  53.7  5.1  27.1\n",
       "  t-4  53.4  1.9  30.6\n",
       "  t-5  53.6  1.3  33.8),\n",
       " (Timestamp('2000-01-01 09:00:00'),\n",
       "  4.0,\n",
       "          T   WS    WD\n",
       "  t-1  52.0  3.4  60.6\n",
       "  t-2  53.0  2.7  36.5\n",
       "  t-3  53.9  2.5  37.5\n",
       "  t-4  53.7  5.1  27.1\n",
       "  t-5  53.4  1.9  30.6)]"
      ]
     },
     "execution_count": 8,
     "metadata": {},
     "output_type": "execute_result"
    }
   ],
   "source": [
    "trial_dt, trial_y, trial_x = structure_timeseries(df = df[:10], y_col = \"O3\", dt_col = \"DateTime\", window = 5, use_array = False)\n",
    "list(zip(trial_dt, trial_y, trial_x))"
   ]
  },
  {
   "cell_type": "markdown",
   "id": "402d3a86-bbfb-4f15-ad51-ce501f1384b8",
   "metadata": {},
   "source": [
    "Yes, the `structure_timeseries` function is preparing the data as needed. Each `O3` value is paired with a timestamp and relevant historical feature data over the specified window size. The features are given in reverse chronological order as desired."
   ]
  },
  {
   "cell_type": "markdown",
   "id": "00256378-3dc9-4c26-890a-6acff070ceca",
   "metadata": {},
   "source": [
    "## Preprocessing setup: Prepare to transform wind data"
   ]
  },
  {
   "cell_type": "markdown",
   "id": "e7aaca02-a704-4e52-a2e4-a6763b357b5d",
   "metadata": {},
   "source": [
    "The prediction's inputs will include wind speed & wind direction, but prior EDA indicates that vectorized wind data (speeds in the north-south and east-west directions) is more valuable. \n",
    "\n",
    "Transform the wind data from speed + direction to vectors."
   ]
  },
  {
   "cell_type": "code",
   "execution_count": 9,
   "id": "d593089d-fa01-49f4-ace9-e9c549ce85cb",
   "metadata": {
    "tags": []
   },
   "outputs": [],
   "source": [
    "# Build a function transformer to vectorize the wind data as required.\n",
    "\n",
    "def vectorize(wind_df):\n",
    "    \"\"\"Accepts wind speeds and wind directions as dataframe wind_df\"\"\"\n",
    "    \n",
    "    wind_df[\"N_wind_vec\"] = np.cos(np.radians(wind_df[\"WD\"])) * wind_df[\"WS\"]\n",
    "    wind_df[\"E_wind_vec\"] = np.sin(np.radians(wind_df[\"WD\"])) * wind_df[\"WS\"]\n",
    "    \n",
    "    wind_df = wind_df.drop([\"WS\", \"WD\"], axis = \"columns\")\n",
    "    return wind_df"
   ]
  },
  {
   "cell_type": "markdown",
   "id": "5359f131-5cdf-4791-954f-2e5198f5447f",
   "metadata": {},
   "source": [
    "Note that the `vectorize` function returns a new dataframe with the `WS` and `WD` columns removed; once vectorized, the original wind data is no longer needed and is dropped."
   ]
  },
  {
   "cell_type": "markdown",
   "id": "d201b1dc-a047-40ef-9150-dc571b2f8654",
   "metadata": {},
   "source": [
    "Confirm that this function is working as expected:"
   ]
  },
  {
   "cell_type": "code",
   "execution_count": 10,
   "id": "18e54049-64ea-4bd2-8f04-29e645543b2d",
   "metadata": {},
   "outputs": [
    {
     "name": "stderr",
     "output_type": "stream",
     "text": [
      "/tmp/ipykernel_2593/3204449742.py:6: SettingWithCopyWarning: \n",
      "A value is trying to be set on a copy of a slice from a DataFrame.\n",
      "Try using .loc[row_indexer,col_indexer] = value instead\n",
      "\n",
      "See the caveats in the documentation: https://pandas.pydata.org/pandas-docs/stable/user_guide/indexing.html#returning-a-view-versus-a-copy\n",
      "  wind_df[\"N_wind_vec\"] = np.cos(np.radians(wind_df[\"WD\"])) * wind_df[\"WS\"]\n",
      "/tmp/ipykernel_2593/3204449742.py:7: SettingWithCopyWarning: \n",
      "A value is trying to be set on a copy of a slice from a DataFrame.\n",
      "Try using .loc[row_indexer,col_indexer] = value instead\n",
      "\n",
      "See the caveats in the documentation: https://pandas.pydata.org/pandas-docs/stable/user_guide/indexing.html#returning-a-view-versus-a-copy\n",
      "  wind_df[\"E_wind_vec\"] = np.sin(np.radians(wind_df[\"WD\"])) * wind_df[\"WS\"]\n"
     ]
    },
    {
     "data": {
      "text/html": [
       "<div>\n",
       "<style scoped>\n",
       "    .dataframe tbody tr th:only-of-type {\n",
       "        vertical-align: middle;\n",
       "    }\n",
       "\n",
       "    .dataframe tbody tr th {\n",
       "        vertical-align: top;\n",
       "    }\n",
       "\n",
       "    .dataframe thead th {\n",
       "        text-align: right;\n",
       "    }\n",
       "</style>\n",
       "<table border=\"1\" class=\"dataframe\">\n",
       "  <thead>\n",
       "    <tr style=\"text-align: right;\">\n",
       "      <th></th>\n",
       "      <th>WS</th>\n",
       "      <th>WD</th>\n",
       "      <th>DateTime</th>\n",
       "      <th>O3</th>\n",
       "      <th>T</th>\n",
       "      <th>N_wind_vec</th>\n",
       "      <th>E_wind_vec</th>\n",
       "    </tr>\n",
       "  </thead>\n",
       "  <tbody>\n",
       "    <tr>\n",
       "      <th>0</th>\n",
       "      <td>0.6</td>\n",
       "      <td>356.6</td>\n",
       "      <td>2000-01-01 00:00:00</td>\n",
       "      <td>1.0</td>\n",
       "      <td>53.5</td>\n",
       "      <td>0.598944</td>\n",
       "      <td>-0.035584</td>\n",
       "    </tr>\n",
       "    <tr>\n",
       "      <th>1</th>\n",
       "      <td>1.1</td>\n",
       "      <td>0.7</td>\n",
       "      <td>2000-01-01 01:00:00</td>\n",
       "      <td>1.0</td>\n",
       "      <td>53.6</td>\n",
       "      <td>1.099918</td>\n",
       "      <td>0.013439</td>\n",
       "    </tr>\n",
       "    <tr>\n",
       "      <th>2</th>\n",
       "      <td>1.0</td>\n",
       "      <td>15.4</td>\n",
       "      <td>2000-01-01 02:00:00</td>\n",
       "      <td>1.0</td>\n",
       "      <td>53.8</td>\n",
       "      <td>0.964095</td>\n",
       "      <td>0.265556</td>\n",
       "    </tr>\n",
       "    <tr>\n",
       "      <th>3</th>\n",
       "      <td>1.3</td>\n",
       "      <td>33.8</td>\n",
       "      <td>2000-01-01 03:00:00</td>\n",
       "      <td>2.0</td>\n",
       "      <td>53.6</td>\n",
       "      <td>1.080280</td>\n",
       "      <td>0.723184</td>\n",
       "    </tr>\n",
       "    <tr>\n",
       "      <th>4</th>\n",
       "      <td>1.9</td>\n",
       "      <td>30.6</td>\n",
       "      <td>2000-01-01 04:00:00</td>\n",
       "      <td>0.0</td>\n",
       "      <td>53.4</td>\n",
       "      <td>1.635410</td>\n",
       "      <td>0.967179</td>\n",
       "    </tr>\n",
       "    <tr>\n",
       "      <th>5</th>\n",
       "      <td>5.1</td>\n",
       "      <td>27.1</td>\n",
       "      <td>2000-01-01 05:00:00</td>\n",
       "      <td>2.0</td>\n",
       "      <td>53.7</td>\n",
       "      <td>4.540085</td>\n",
       "      <td>2.323279</td>\n",
       "    </tr>\n",
       "    <tr>\n",
       "      <th>6</th>\n",
       "      <td>2.5</td>\n",
       "      <td>37.5</td>\n",
       "      <td>2000-01-01 06:00:00</td>\n",
       "      <td>1.0</td>\n",
       "      <td>53.9</td>\n",
       "      <td>1.983383</td>\n",
       "      <td>1.521904</td>\n",
       "    </tr>\n",
       "    <tr>\n",
       "      <th>7</th>\n",
       "      <td>2.7</td>\n",
       "      <td>36.5</td>\n",
       "      <td>2000-01-01 07:00:00</td>\n",
       "      <td>1.0</td>\n",
       "      <td>53.0</td>\n",
       "      <td>2.170414</td>\n",
       "      <td>1.606022</td>\n",
       "    </tr>\n",
       "    <tr>\n",
       "      <th>8</th>\n",
       "      <td>3.4</td>\n",
       "      <td>60.6</td>\n",
       "      <td>2000-01-01 08:00:00</td>\n",
       "      <td>2.0</td>\n",
       "      <td>52.0</td>\n",
       "      <td>1.669073</td>\n",
       "      <td>2.962127</td>\n",
       "    </tr>\n",
       "    <tr>\n",
       "      <th>9</th>\n",
       "      <td>7.1</td>\n",
       "      <td>83.9</td>\n",
       "      <td>2000-01-01 09:00:00</td>\n",
       "      <td>4.0</td>\n",
       "      <td>53.1</td>\n",
       "      <td>0.754475</td>\n",
       "      <td>7.059799</td>\n",
       "    </tr>\n",
       "  </tbody>\n",
       "</table>\n",
       "</div>"
      ],
      "text/plain": [
       "    WS     WD            DateTime   O3     T  N_wind_vec  E_wind_vec\n",
       "0  0.6  356.6 2000-01-01 00:00:00  1.0  53.5    0.598944   -0.035584\n",
       "1  1.1    0.7 2000-01-01 01:00:00  1.0  53.6    1.099918    0.013439\n",
       "2  1.0   15.4 2000-01-01 02:00:00  1.0  53.8    0.964095    0.265556\n",
       "3  1.3   33.8 2000-01-01 03:00:00  2.0  53.6    1.080280    0.723184\n",
       "4  1.9   30.6 2000-01-01 04:00:00  0.0  53.4    1.635410    0.967179\n",
       "5  5.1   27.1 2000-01-01 05:00:00  2.0  53.7    4.540085    2.323279\n",
       "6  2.5   37.5 2000-01-01 06:00:00  1.0  53.9    1.983383    1.521904\n",
       "7  2.7   36.5 2000-01-01 07:00:00  1.0  53.0    2.170414    1.606022\n",
       "8  3.4   60.6 2000-01-01 08:00:00  2.0  52.0    1.669073    2.962127\n",
       "9  7.1   83.9 2000-01-01 09:00:00  4.0  53.1    0.754475    7.059799"
      ]
     },
     "execution_count": 10,
     "metadata": {},
     "output_type": "execute_result"
    }
   ],
   "source": [
    "pd.concat([df[:10][[\"WS\", \"WD\"]], vectorize(df[:10])], axis = 1)"
   ]
  },
  {
   "cell_type": "markdown",
   "id": "85dcf5e5-840c-42ff-89ff-5ad8e5b34883",
   "metadata": {},
   "source": [
    "A visual inspection of the dataframe above indicates that the wind vectorizing function is behaving as desired. Incorporate it into a `ColumnTransformer`:"
   ]
  },
  {
   "cell_type": "code",
   "execution_count": 11,
   "id": "7a689494-af1e-40ea-a80f-d8b87db803b0",
   "metadata": {},
   "outputs": [],
   "source": [
    "wind_vect_trans = ColumnTransformer(transformers = [\n",
    "    (\"wind-vectorizer\", FunctionTransformer(vectorize), [\"WS\", \"WD\"]),\n",
    "    ], remainder = \"passthrough\")"
   ]
  },
  {
   "cell_type": "markdown",
   "id": "443d154f-8f5a-4cd4-9516-fe12a65a5783",
   "metadata": {
    "tags": []
   },
   "source": [
    "## Preprocessing setup: Prepare to scale the data."
   ]
  },
  {
   "cell_type": "markdown",
   "id": "343c3fa4-601e-4345-aede-8dd74c328cb8",
   "metadata": {},
   "source": [
    "As the last step of preprocessing, the data will be Z-scaled. Any remaining datetime data should be dropped here."
   ]
  },
  {
   "cell_type": "raw",
   "id": "f234c2b5-5d40-460c-b58f-53c341b5f571",
   "metadata": {
    "tags": []
   },
   "source": [
    "# For reasons that are not clear, the scaled value must explicitly be cast as float64 type.\n",
    "# Otherwise, the pipeline that calls this transformer returns the values as a string rather than float.\n",
    "\n",
    "def zscaler(df):\n",
    "    #for feature in df.select_dtypes(\"number\").columns:  # This yields an otherwise working transformer that scales the data and returns str rather than float\n",
    "    for feature in df.columns:                         # This yields an otherwise working transformer that z-scales the datetime\n",
    "        df[feature] = ((df[feature] - df[feature].mean()) / df[feature].std()).astype(\"float64\")\n",
    "    return df"
   ]
  },
  {
   "cell_type": "code",
   "execution_count": 12,
   "id": "205ac956-020d-4b2c-bbad-0dd9fcdb0cff",
   "metadata": {},
   "outputs": [],
   "source": [
    "def ozone_copier(df):\n",
    "    df[\"O3-untrans\"] = df[\"O3\"]\n",
    "    return df"
   ]
  },
  {
   "cell_type": "markdown",
   "id": "68a4c78a-a21c-4126-a97e-821c81012040",
   "metadata": {},
   "source": [
    "scaler = ColumnTransformer(transformers = [\n",
    "    (\"standard-scaler\", FunctionTransformer(zscaler), [\"N_wind_vec\", \"E_wind_vec\", \"T\", \"O3\"]),\n",
    "    ], remainder = \"passthrough\")"
   ]
  },
  {
   "cell_type": "code",
   "execution_count": 13,
   "id": "3c8f3c1e-627b-43cd-bc4b-3b4ccfa22b06",
   "metadata": {},
   "outputs": [],
   "source": [
    "scaler = ColumnTransformer(transformers = [\n",
    "    (\"standard-scaler\", StandardScaler(), [\"N_wind_vec\", \"E_wind_vec\", \"T\", \"O3\"]),\n",
    "    ], remainder = \"passthrough\")"
   ]
  },
  {
   "cell_type": "markdown",
   "id": "ef9c6c12-0165-41c3-b508-efa7f01f2f6c",
   "metadata": {},
   "source": [
    "## Preprocessing setup: Assemble the completed transformer"
   ]
  },
  {
   "cell_type": "markdown",
   "id": "6ddc1d5b-cbbe-4661-ad08-d1c209f8906e",
   "metadata": {},
   "source": [
    "Assemble the preprocessing steps from prior sections (transforming, restructuring tabular data) into a preprocessing transformer that also includes Z-scaling."
   ]
  },
  {
   "cell_type": "code",
   "execution_count": 14,
   "id": "5aa2b1c4-73b9-4633-a4fa-7676e9d0da93",
   "metadata": {},
   "outputs": [],
   "source": [
    "# For convenience, the partially processed array will be re-transformed back in to a dataframe partway through\n",
    "# using the `dataframer` FunctionTransformer so that the scaling transformer can use pandas-derived functions.\n",
    "dataframer = FunctionTransformer(lambda x: pd.DataFrame(x, columns = [\"N_wind_vec\", \"E_wind_vec\", \"DateTime\", \"O3\", \"T\"])) "
   ]
  },
  {
   "cell_type": "code",
   "execution_count": 15,
   "id": "dd9851a5-5cd7-4577-80f2-ce15c6bb00d1",
   "metadata": {},
   "outputs": [],
   "source": [
    "# After completing preprocessing, convert the data back to a dataframe to allow straightforward restructuring using the structure_timeseries function.\n",
    "dataframer2 = FunctionTransformer(lambda x: pd.DataFrame(x, columns = [\"N_wind_vec\", \"E_wind_vec\", \"T\", \"O3\", \"DateTime\", \"O3-untrans\"]).convert_dtypes()) "
   ]
  },
  {
   "cell_type": "code",
   "execution_count": 16,
   "id": "dd755fb8-c388-49a3-bdb8-a9b771f9cb6e",
   "metadata": {},
   "outputs": [],
   "source": [
    "preprocessor = Pipeline(steps = [\n",
    "    (\"wind-processor\", wind_vect_trans),\n",
    "    (\"re-dataframer1\", dataframer),\n",
    "    (\"o3-copier\", FunctionTransformer(ozone_copier)),\n",
    "    (\"z-scaler\", scaler),\n",
    "    (\"re-dataframer2\", dataframer2),\n",
    "    ])"
   ]
  },
  {
   "cell_type": "markdown",
   "id": "81a65a91-46fa-455c-99bd-e8e4f84eb209",
   "metadata": {},
   "source": [
    "Visually spot-check to ensure that the preprocessing pipeline functions as expected."
   ]
  },
  {
   "cell_type": "code",
   "execution_count": 17,
   "id": "26457c40-7d39-481f-bf0f-9999b79c18ab",
   "metadata": {},
   "outputs": [
    {
     "data": {
      "text/html": [
       "<div>\n",
       "<style scoped>\n",
       "    .dataframe tbody tr th:only-of-type {\n",
       "        vertical-align: middle;\n",
       "    }\n",
       "\n",
       "    .dataframe tbody tr th {\n",
       "        vertical-align: top;\n",
       "    }\n",
       "\n",
       "    .dataframe thead th {\n",
       "        text-align: right;\n",
       "    }\n",
       "</style>\n",
       "<table border=\"1\" class=\"dataframe\">\n",
       "  <thead>\n",
       "    <tr style=\"text-align: right;\">\n",
       "      <th></th>\n",
       "      <th>N_wind_vec</th>\n",
       "      <th>E_wind_vec</th>\n",
       "      <th>T</th>\n",
       "      <th>O3</th>\n",
       "      <th>DateTime</th>\n",
       "      <th>O3-untrans</th>\n",
       "    </tr>\n",
       "  </thead>\n",
       "  <tbody>\n",
       "    <tr>\n",
       "      <th>0</th>\n",
       "      <td>0.295403</td>\n",
       "      <td>0.307084</td>\n",
       "      <td>-1.05655</td>\n",
       "      <td>-1.067703</td>\n",
       "      <td>2000-01-01 00:00:00</td>\n",
       "      <td>1.0</td>\n",
       "    </tr>\n",
       "    <tr>\n",
       "      <th>1</th>\n",
       "      <td>0.426581</td>\n",
       "      <td>0.318704</td>\n",
       "      <td>-1.047044</td>\n",
       "      <td>-1.067703</td>\n",
       "      <td>2000-01-01 01:00:00</td>\n",
       "      <td>1.0</td>\n",
       "    </tr>\n",
       "    <tr>\n",
       "      <th>2</th>\n",
       "      <td>0.391016</td>\n",
       "      <td>0.378468</td>\n",
       "      <td>-1.028033</td>\n",
       "      <td>-1.067703</td>\n",
       "      <td>2000-01-01 02:00:00</td>\n",
       "      <td>1.0</td>\n",
       "    </tr>\n",
       "    <tr>\n",
       "      <th>3</th>\n",
       "      <td>0.421438</td>\n",
       "      <td>0.486948</td>\n",
       "      <td>-1.047044</td>\n",
       "      <td>-1.013466</td>\n",
       "      <td>2000-01-01 03:00:00</td>\n",
       "      <td>2.0</td>\n",
       "    </tr>\n",
       "    <tr>\n",
       "      <th>4</th>\n",
       "      <td>0.566797</td>\n",
       "      <td>0.544786</td>\n",
       "      <td>-1.066055</td>\n",
       "      <td>-1.121939</td>\n",
       "      <td>2000-01-01 04:00:00</td>\n",
       "      <td>0.0</td>\n",
       "    </tr>\n",
       "    <tr>\n",
       "      <th>...</th>\n",
       "      <td>...</td>\n",
       "      <td>...</td>\n",
       "      <td>...</td>\n",
       "      <td>...</td>\n",
       "      <td>...</td>\n",
       "      <td>...</td>\n",
       "    </tr>\n",
       "    <tr>\n",
       "      <th>157132</th>\n",
       "      <td>0.652641</td>\n",
       "      <td>0.40598</td>\n",
       "      <td>-1.19913</td>\n",
       "      <td>-0.850756</td>\n",
       "      <td>2021-12-31 19:00:00</td>\n",
       "      <td>5.0</td>\n",
       "    </tr>\n",
       "    <tr>\n",
       "      <th>157133</th>\n",
       "      <td>0.92363</td>\n",
       "      <td>0.340337</td>\n",
       "      <td>-1.19913</td>\n",
       "      <td>-0.79652</td>\n",
       "      <td>2021-12-31 20:00:00</td>\n",
       "      <td>6.0</td>\n",
       "    </tr>\n",
       "    <tr>\n",
       "      <th>157134</th>\n",
       "      <td>0.658359</td>\n",
       "      <td>0.373296</td>\n",
       "      <td>-1.294183</td>\n",
       "      <td>-0.904993</td>\n",
       "      <td>2021-12-31 21:00:00</td>\n",
       "      <td>4.0</td>\n",
       "    </tr>\n",
       "    <tr>\n",
       "      <th>157135</th>\n",
       "      <td>0.919805</td>\n",
       "      <td>0.389853</td>\n",
       "      <td>-1.484291</td>\n",
       "      <td>-1.067703</td>\n",
       "      <td>2021-12-31 22:00:00</td>\n",
       "      <td>1.0</td>\n",
       "    </tr>\n",
       "    <tr>\n",
       "      <th>157136</th>\n",
       "      <td>0.654307</td>\n",
       "      <td>0.397844</td>\n",
       "      <td>-1.484291</td>\n",
       "      <td>-1.067703</td>\n",
       "      <td>2021-12-31 23:00:00</td>\n",
       "      <td>1.0</td>\n",
       "    </tr>\n",
       "  </tbody>\n",
       "</table>\n",
       "<p>157137 rows × 6 columns</p>\n",
       "</div>"
      ],
      "text/plain": [
       "        N_wind_vec  E_wind_vec         T        O3            DateTime  \\\n",
       "0         0.295403    0.307084  -1.05655 -1.067703 2000-01-01 00:00:00   \n",
       "1         0.426581    0.318704 -1.047044 -1.067703 2000-01-01 01:00:00   \n",
       "2         0.391016    0.378468 -1.028033 -1.067703 2000-01-01 02:00:00   \n",
       "3         0.421438    0.486948 -1.047044 -1.013466 2000-01-01 03:00:00   \n",
       "4         0.566797    0.544786 -1.066055 -1.121939 2000-01-01 04:00:00   \n",
       "...            ...         ...       ...       ...                 ...   \n",
       "157132    0.652641     0.40598  -1.19913 -0.850756 2021-12-31 19:00:00   \n",
       "157133     0.92363    0.340337  -1.19913  -0.79652 2021-12-31 20:00:00   \n",
       "157134    0.658359    0.373296 -1.294183 -0.904993 2021-12-31 21:00:00   \n",
       "157135    0.919805    0.389853 -1.484291 -1.067703 2021-12-31 22:00:00   \n",
       "157136    0.654307    0.397844 -1.484291 -1.067703 2021-12-31 23:00:00   \n",
       "\n",
       "        O3-untrans  \n",
       "0              1.0  \n",
       "1              1.0  \n",
       "2              1.0  \n",
       "3              2.0  \n",
       "4              0.0  \n",
       "...            ...  \n",
       "157132         5.0  \n",
       "157133         6.0  \n",
       "157134         4.0  \n",
       "157135         1.0  \n",
       "157136         1.0  \n",
       "\n",
       "[157137 rows x 6 columns]"
      ]
     },
     "execution_count": 17,
     "metadata": {},
     "output_type": "execute_result"
    }
   ],
   "source": [
    "transformed = preprocessor.fit_transform(df)\n",
    "transformed"
   ]
  },
  {
   "cell_type": "code",
   "execution_count": 18,
   "id": "4fd29840-3108-490b-b815-3788296dc641",
   "metadata": {
    "tags": []
   },
   "outputs": [
    {
     "data": {
      "text/html": [
       "<div>\n",
       "<style scoped>\n",
       "    .dataframe tbody tr th:only-of-type {\n",
       "        vertical-align: middle;\n",
       "    }\n",
       "\n",
       "    .dataframe tbody tr th {\n",
       "        vertical-align: top;\n",
       "    }\n",
       "\n",
       "    .dataframe thead th {\n",
       "        text-align: right;\n",
       "    }\n",
       "</style>\n",
       "<table border=\"1\" class=\"dataframe\">\n",
       "  <thead>\n",
       "    <tr style=\"text-align: right;\">\n",
       "      <th></th>\n",
       "      <th>N_wind_vec</th>\n",
       "      <th>E_wind_vec</th>\n",
       "      <th>T</th>\n",
       "      <th>O3</th>\n",
       "      <th>O3-untrans</th>\n",
       "    </tr>\n",
       "  </thead>\n",
       "  <tbody>\n",
       "    <tr>\n",
       "      <th>count</th>\n",
       "      <td>1.571370e+05</td>\n",
       "      <td>1.571370e+05</td>\n",
       "      <td>1.571370e+05</td>\n",
       "      <td>1.571370e+05</td>\n",
       "      <td>157137.000000</td>\n",
       "    </tr>\n",
       "    <tr>\n",
       "      <th>mean</th>\n",
       "      <td>-2.315164e-17</td>\n",
       "      <td>5.064421e-18</td>\n",
       "      <td>6.656096e-17</td>\n",
       "      <td>1.475917e-16</td>\n",
       "      <td>20.686017</td>\n",
       "    </tr>\n",
       "    <tr>\n",
       "      <th>std</th>\n",
       "      <td>1.000003e+00</td>\n",
       "      <td>1.000003e+00</td>\n",
       "      <td>1.000003e+00</td>\n",
       "      <td>1.000003e+00</td>\n",
       "      <td>18.437794</td>\n",
       "    </tr>\n",
       "    <tr>\n",
       "      <th>min</th>\n",
       "      <td>-1.963413e+01</td>\n",
       "      <td>-1.026791e+01</td>\n",
       "      <td>-3.603985e+00</td>\n",
       "      <td>-1.121939e+00</td>\n",
       "      <td>0.000000</td>\n",
       "    </tr>\n",
       "    <tr>\n",
       "      <th>25%</th>\n",
       "      <td>-7.235655e-01</td>\n",
       "      <td>-6.740675e-01</td>\n",
       "      <td>-7.143567e-01</td>\n",
       "      <td>-9.592293e-01</td>\n",
       "      <td>3.000000</td>\n",
       "    </tr>\n",
       "    <tr>\n",
       "      <th>50%</th>\n",
       "      <td>-4.927833e-02</td>\n",
       "      <td>1.766499e-01</td>\n",
       "      <td>-9.650842e-02</td>\n",
       "      <td>-1.999170e-01</td>\n",
       "      <td>17.000000</td>\n",
       "    </tr>\n",
       "    <tr>\n",
       "      <th>75%</th>\n",
       "      <td>7.277938e-01</td>\n",
       "      <td>7.003895e-01</td>\n",
       "      <td>6.068880e-01</td>\n",
       "      <td>7.221051e-01</td>\n",
       "      <td>34.000000</td>\n",
       "    </tr>\n",
       "    <tr>\n",
       "      <th>max</th>\n",
       "      <td>1.464480e+01</td>\n",
       "      <td>1.183783e+01</td>\n",
       "      <td>4.608644e+00</td>\n",
       "      <td>7.176260e+00</td>\n",
       "      <td>153.000000</td>\n",
       "    </tr>\n",
       "  </tbody>\n",
       "</table>\n",
       "</div>"
      ],
      "text/plain": [
       "         N_wind_vec    E_wind_vec             T            O3     O3-untrans\n",
       "count  1.571370e+05  1.571370e+05  1.571370e+05  1.571370e+05  157137.000000\n",
       "mean  -2.315164e-17  5.064421e-18  6.656096e-17  1.475917e-16      20.686017\n",
       "std    1.000003e+00  1.000003e+00  1.000003e+00  1.000003e+00      18.437794\n",
       "min   -1.963413e+01 -1.026791e+01 -3.603985e+00 -1.121939e+00       0.000000\n",
       "25%   -7.235655e-01 -6.740675e-01 -7.143567e-01 -9.592293e-01       3.000000\n",
       "50%   -4.927833e-02  1.766499e-01 -9.650842e-02 -1.999170e-01      17.000000\n",
       "75%    7.277938e-01  7.003895e-01  6.068880e-01  7.221051e-01      34.000000\n",
       "max    1.464480e+01  1.183783e+01  4.608644e+00  7.176260e+00     153.000000"
      ]
     },
     "execution_count": 18,
     "metadata": {},
     "output_type": "execute_result"
    }
   ],
   "source": [
    "transformed.describe()"
   ]
  },
  {
   "cell_type": "code",
   "execution_count": 19,
   "id": "26d31605-a971-4220-b0e6-b3a63eece1b3",
   "metadata": {},
   "outputs": [],
   "source": [
    "restruct_dt, restruct_y, restruct_x = structure_timeseries(transformed, dt_col = \"DateTime\", y_col = \"O3-untrans\", window = 24)"
   ]
  },
  {
   "cell_type": "markdown",
   "id": "7a03b32b-a502-4fe5-a696-bae986a16fb7",
   "metadata": {},
   "source": [
    "Visually inspect the transformed & restructured data:"
   ]
  },
  {
   "cell_type": "code",
   "execution_count": 20,
   "id": "4da7cc2b-2c33-4ca8-849b-30714fb42ef9",
   "metadata": {},
   "outputs": [
    {
     "data": {
      "text/plain": [
       "[Timestamp('2000-01-02 01:00:00'),\n",
       " Timestamp('2000-01-02 02:00:00'),\n",
       " Timestamp('2000-01-02 03:00:00'),\n",
       " Timestamp('2000-01-02 04:00:00'),\n",
       " Timestamp('2000-01-02 05:00:00')]"
      ]
     },
     "execution_count": 20,
     "metadata": {},
     "output_type": "execute_result"
    }
   ],
   "source": [
    "restruct_dt[:5]"
   ]
  },
  {
   "cell_type": "code",
   "execution_count": 21,
   "id": "c2c50495-93fa-45aa-a177-80984df4bb45",
   "metadata": {},
   "outputs": [
    {
     "data": {
      "text/plain": [
       "[1.0, 4.0, 6.0, 0.0, 33.0]"
      ]
     },
     "execution_count": 21,
     "metadata": {},
     "output_type": "execute_result"
    }
   ],
   "source": [
    "restruct_y[:5]"
   ]
  },
  {
   "cell_type": "markdown",
   "id": "4da60d06-2070-451e-b821-d410b9a7319a",
   "metadata": {
    "tags": []
   },
   "source": [
    "## Split the data into training & test sets"
   ]
  },
  {
   "cell_type": "code",
   "execution_count": 22,
   "id": "b2c6c177-bd7e-4e5c-b956-5dae9adfc4c4",
   "metadata": {
    "tags": []
   },
   "outputs": [
    {
     "data": {
      "text/plain": [
       "[array([[0.5039229872452909, 0.34271143893011713, -1.3797316708174068,\n",
       "         -1.0134659257558578],\n",
       "        [0.6772163346911511, 0.4156152783261017, -1.3607209559408757,\n",
       "         -1.0134659257558578],\n",
       "        [0.4135718250541657, 0.3930599234816101, -1.370226313379141,\n",
       "         -1.0134659257558578],\n",
       "        [0.3881333968577976, 0.6492109430167806, -1.370226313379141,\n",
       "         -1.0134659257558578],\n",
       "        [0.5766741446929069, 0.3868805019667231, -1.2846780964347497,\n",
       "         -1.0677025204435553],\n",
       "        [-0.3797643723156984, 0.3831384275656054, -1.2086352369286242,\n",
       "         -0.9592293310681602],\n",
       "        [-0.5862137849557193, -0.1525050696056131, -1.1801191646138267,\n",
       "         -0.6338097629419748],\n",
       "        [-0.7011926403396879, -0.2511429602185463, -1.0660548753546386,\n",
       "         -0.09144381606499892],\n",
       "        [-1.0042086922215312, 0.4480482460425838, -0.9519905860954497,\n",
       "         -0.09144381606499892],\n",
       "        [-0.9510031300686893, 0.450637069851226, -0.8569370117127926,\n",
       "         0.23397575206118656],\n",
       "        [-0.9764052080877201, 0.45737844214920603, -0.8094102245214639,\n",
       "         0.3424489414365817],\n",
       "        [-1.1346314821630268, 0.45908587078657714, -0.8474316542745267,\n",
       "         0.28821234674888413],\n",
       "        [-0.686347999736605, 0.4485434961376241, -0.8474316542745267,\n",
       "         0.01702937331039624],\n",
       "        [0.3131275872095822, 1.681281690058757, -0.9044637989041211,\n",
       "         -0.4168633841911844],\n",
       "        [0.5280702268967626, 2.2752466875429285, -1.0185280881633099,\n",
       "         -0.850756141692765],\n",
       "        [0.336127932911795, 1.9890253858901925, -1.0945709476694354,\n",
       "         -0.9049927363804626],\n",
       "        [0.5756111125385782, 1.0176830884270893, -1.1991298794903584,\n",
       "         -1.0134659257558578],\n",
       "        [0.7068848508801423, 0.696221921151393, -1.1040763051077012,\n",
       "         -1.0677025204435553],\n",
       "        [0.657911873065702, 0.6762819856014487, -1.0185280881633099,\n",
       "         -1.0677025204435553],\n",
       "        [1.3273723459130133, 0.8662458944603021, -1.037538803039841,\n",
       "         -1.0134659257558578],\n",
       "        [0.5667966364201649, 0.5447859353235172, -1.0660548753546386,\n",
       "         -1.121939115131253],\n",
       "        [0.4214384262063391, 0.486947717583448, -1.0470441604781069,\n",
       "         -1.0134659257558578],\n",
       "        [0.3910160818362461, 0.3784681804217, -1.0280334456015758,\n",
       "         -1.0677025204435553],\n",
       "        [0.4265805701316985, 0.3187044208985643, -1.0470441604781069,\n",
       "         -1.0677025204435553]], dtype=object)]"
      ]
     },
     "execution_count": 22,
     "metadata": {},
     "output_type": "execute_result"
    }
   ],
   "source": [
    "restruct_x[:1]"
   ]
  },
  {
   "cell_type": "markdown",
   "id": "0b68a1b2-fb68-4c3e-8878-b94241fe8429",
   "metadata": {},
   "source": [
    "The data has been successfully transformed & restructured."
   ]
  },
  {
   "cell_type": "markdown",
   "id": "104a3e99-2043-4326-81fa-0709a59844ac",
   "metadata": {},
   "source": [
    "### Split the data set"
   ]
  },
  {
   "cell_type": "markdown",
   "id": "9095a2a2-6f4e-4268-a82a-b0ee6cfe6c5e",
   "metadata": {},
   "source": [
    "Use the first 75% of the dataset for training, with the balance held out for testing."
   ]
  },
  {
   "cell_type": "code",
   "execution_count": 23,
   "id": "b0afa950-eed6-4c65-a419-74854688625b",
   "metadata": {},
   "outputs": [],
   "source": [
    "train_frac = 0.75\n",
    "slice_pt = int(len(restruct_dt)*train_frac)"
   ]
  },
  {
   "cell_type": "code",
   "execution_count": 24,
   "id": "09d67949-8e1e-4080-b7af-512ae6277f65",
   "metadata": {},
   "outputs": [
    {
     "data": {
      "text/plain": [
       "(157112, 117834, 39278)"
      ]
     },
     "execution_count": 24,
     "metadata": {},
     "output_type": "execute_result"
    }
   ],
   "source": [
    "x_train, x_test = restruct_x[:slice_pt], restruct_x[slice_pt:]\n",
    "len(restruct_x), len(x_train), len(x_test)"
   ]
  },
  {
   "cell_type": "code",
   "execution_count": 25,
   "id": "c03cf5ae-063a-4d93-b406-bc2a519c4f81",
   "metadata": {},
   "outputs": [
    {
     "data": {
      "text/plain": [
       "(157112, 117834, 39278)"
      ]
     },
     "execution_count": 25,
     "metadata": {},
     "output_type": "execute_result"
    }
   ],
   "source": [
    "y_train, y_test = restruct_y[:slice_pt], restruct_y[slice_pt:]\n",
    "len(restruct_y), len(y_train), len(y_test)"
   ]
  },
  {
   "cell_type": "code",
   "execution_count": 26,
   "id": "8088610c-2904-46a6-a9c6-c8b5542af3c4",
   "metadata": {},
   "outputs": [
    {
     "data": {
      "text/plain": [
       "(157112, 117834, 39278)"
      ]
     },
     "execution_count": 26,
     "metadata": {},
     "output_type": "execute_result"
    }
   ],
   "source": [
    "dt_train, dt_test = restruct_dt[:slice_pt], restruct_dt[slice_pt:]\n",
    "len(restruct_dt), len(dt_train), len(dt_test)"
   ]
  },
  {
   "cell_type": "markdown",
   "id": "95e70d88-b247-4e3c-8954-007b5ccac487",
   "metadata": {},
   "source": [
    "For ease of subsequent saving / loading, convert each to a numpy array:"
   ]
  },
  {
   "cell_type": "code",
   "execution_count": 27,
   "id": "2c95961b-6202-429e-9079-aa50b2e8b7ac",
   "metadata": {},
   "outputs": [
    {
     "data": {
      "text/plain": [
       "(117834, 24, 4)"
      ]
     },
     "execution_count": 27,
     "metadata": {},
     "output_type": "execute_result"
    }
   ],
   "source": [
    "x_train, x_test = (np.array(x_train),\n",
    "                   np.array(x_test))\n",
    "x_train.shape"
   ]
  },
  {
   "cell_type": "code",
   "execution_count": 28,
   "id": "fecc2d19-ed94-43b8-9d11-0199c1048a24",
   "metadata": {},
   "outputs": [
    {
     "data": {
      "text/plain": [
       "(117834,)"
      ]
     },
     "execution_count": 28,
     "metadata": {},
     "output_type": "execute_result"
    }
   ],
   "source": [
    "y_train, y_test = (np.array(y_train),\n",
    "                   np.array(y_test))\n",
    "y_train.shape"
   ]
  },
  {
   "cell_type": "code",
   "execution_count": 29,
   "id": "12a80c5d-cd52-4c08-b66f-d761b21559b5",
   "metadata": {},
   "outputs": [
    {
     "data": {
      "text/plain": [
       "(117834,)"
      ]
     },
     "execution_count": 29,
     "metadata": {},
     "output_type": "execute_result"
    }
   ],
   "source": [
    "dt_train, dt_test = (np.array(dt_train),\n",
    "                     np.array(dt_test))\n",
    "dt_train.shape"
   ]
  },
  {
   "cell_type": "markdown",
   "id": "775fe24a-f8dd-4992-8457-5c8536cb438c",
   "metadata": {
    "tags": []
   },
   "source": [
    "## Save everything"
   ]
  },
  {
   "cell_type": "markdown",
   "id": "ff10f9d4-21f4-4f0c-b85e-4525cae56faf",
   "metadata": {},
   "source": [
    "Export processed data."
   ]
  },
  {
   "cell_type": "code",
   "execution_count": 30,
   "id": "9b40e5a3-3aea-47a2-bef7-266310c71a52",
   "metadata": {},
   "outputs": [],
   "source": [
    "np.savez_compressed(\"O3_model/transformed_datasets.npz\",\n",
    "                    x_train = x_train,\n",
    "                    x_test = x_test,\n",
    "                    y_train = y_train,\n",
    "                    y_test = y_test,\n",
    "                    dt_train = dt_train,\n",
    "                    dt_test = dt_test)"
   ]
  },
  {
   "cell_type": "markdown",
   "id": "c66756e3-70d2-4e0a-81cc-664e7257b519",
   "metadata": {},
   "source": [
    "Ensure fidelity of the saved arrays:"
   ]
  },
  {
   "cell_type": "code",
   "execution_count": 31,
   "id": "fd5b2bce-7960-4641-a7a4-74dc56ddedb9",
   "metadata": {},
   "outputs": [],
   "source": [
    "datasets = np.load(\"O3_model/transformed_datasets.npz\",\n",
    "                   allow_pickle = True)"
   ]
  },
  {
   "cell_type": "code",
   "execution_count": 32,
   "id": "868df372-a023-42ad-9cac-b4de91498156",
   "metadata": {},
   "outputs": [
    {
     "name": "stdout",
     "output_type": "stream",
     "text": [
      "x_train was saved & read correctly.\n",
      "x_test was saved & read correctly.\n",
      "y_train was saved & read correctly.\n",
      "y_test was saved & read correctly.\n",
      "dt_train was saved & read correctly.\n",
      "dt_test was saved & read correctly.\n"
     ]
    }
   ],
   "source": [
    "loaded_datasets = {}\n",
    "\n",
    "for array_name in datasets.files:\n",
    "    loaded_datasets[array_name] = datasets[array_name]\n",
    "    \n",
    "    if np.array_equal(loaded_datasets[array_name], eval(array_name)):\n",
    "        print(array_name, \"was saved & read correctly.\")                                             "
   ]
  },
  {
   "cell_type": "markdown",
   "id": "6c78055a-d1fd-4531-b944-8d6e92cf4413",
   "metadata": {},
   "source": [
    "Also save the fitted preprocessing pipeline."
   ]
  },
  {
   "cell_type": "code",
   "execution_count": 33,
   "id": "1d286d58-7674-40ae-a15e-bead29ede18e",
   "metadata": {},
   "outputs": [],
   "source": [
    "from dill import dump, load"
   ]
  },
  {
   "cell_type": "code",
   "execution_count": 34,
   "id": "ce0fc979-21cd-4246-9b8e-113ed8169003",
   "metadata": {},
   "outputs": [],
   "source": [
    "with open(\"O3_model/preprocessor_pipeline.dill\", \"wb\") as file:\n",
    "    dump(preprocessor, file)"
   ]
  },
  {
   "cell_type": "markdown",
   "id": "a4ebdefe-7f26-4f2d-9985-22c461e5ed2f",
   "metadata": {},
   "source": [
    "Again ensure that this was saved correctly:"
   ]
  },
  {
   "cell_type": "code",
   "execution_count": 35,
   "id": "9f28a20c-0403-4485-a9a9-d1d64b83566f",
   "metadata": {},
   "outputs": [],
   "source": [
    "with open(\"O3_model/preprocessor_pipeline.dill\", \"rb\") as file:\n",
    "    preprocessor2 = load(file)"
   ]
  },
  {
   "cell_type": "code",
   "execution_count": 36,
   "id": "f1af1b6b-5432-4d8b-a8a4-f240d3d55439",
   "metadata": {
    "tags": []
   },
   "outputs": [
    {
     "data": {
      "text/plain": [
       "True"
      ]
     },
     "execution_count": 36,
     "metadata": {},
     "output_type": "execute_result"
    }
   ],
   "source": [
    "preprocessor.transform(df).equals(preprocessor2.transform(df))"
   ]
  }
 ],
 "metadata": {
  "kernelspec": {
   "display_name": "ml-venv",
   "language": "python",
   "name": "ml-venv"
  },
  "language_info": {
   "codemirror_mode": {
    "name": "ipython",
    "version": 3
   },
   "file_extension": ".py",
   "mimetype": "text/x-python",
   "name": "python",
   "nbconvert_exporter": "python",
   "pygments_lexer": "ipython3",
   "version": "3.10.2"
  }
 },
 "nbformat": 4,
 "nbformat_minor": 5
}
