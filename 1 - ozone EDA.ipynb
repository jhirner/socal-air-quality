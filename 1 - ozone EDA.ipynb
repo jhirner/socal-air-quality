{
 "cells": [
  {
   "cell_type": "markdown",
   "id": "750bd8bf-019c-467d-a832-28bced42efef",
   "metadata": {
    "tags": []
   },
   "source": [
    "# 1. Exploratory Analysis of Ozone Data"
   ]
  },
  {
   "cell_type": "markdown",
   "id": "e8474d61-05e1-416f-846d-934ec99f96b8",
   "metadata": {},
   "source": [
    "## Purpose, contents, & conclusions"
   ]
  },
  {
   "cell_type": "markdown",
   "id": "59025e43-f594-4575-a66c-0993b775205d",
   "metadata": {},
   "source": [
    "**Purpose:** This notebook contains exploratory analysis of ozone data from the [Central Los Angeles](http://www.aqmd.gov/docs/default-source/clean-air-plans/air-quality-monitoring-network-plan/aaqmnp-losangeles.pdf) air quality monitoring station for 2000 - 2021. Its purpose is to prepare for data preprocessing and subsequent modeling by (1) evaluating seasonality in ozone pollution, and (2) scout hypotheses for feature engineering."
   ]
  },
  {
   "cell_type": "markdown",
   "id": "9046fcbf-2495-4426-bc5b-3e5251f79701",
   "metadata": {},
   "source": [
    "**Contents:** The notebook contains:\n",
    "* Importing the data and conducting data cleaning.\n",
    "* Basic data visualization for seasonality and distribution of ozone pollution values.\n",
    "* Calculation of correlation coefficients to determine appropriate features for subsequent model training."
   ]
  },
  {
   "cell_type": "markdown",
   "id": "c666eec6-44b5-4efb-8631-f4f960c61db7",
   "metadata": {},
   "source": [
    "**Conclusions:** Key conclusions & outputs are:\n",
    "* The notebook saves a cleaned ozone data set as `cleaned_O3_data.csv`.\n",
    "* Ozone pollution exhibits high seasonality within one day and within one year.\n",
    "* Ozone pollution is meaningfully correlated to air temperature (ρ = 0.46), wind speed (ρ = 0.40), and wind direction (ρ = 0.40).\n",
    "* Transforming wind data into vector format (speed in the north-south and east-west directions) provides a stronger correlation (ρ ≈ -0.57).\n",
    "* *Subsequent model development should use the following three features: air temperature, north-south wind vector, and east-west wind vector.*"
   ]
  },
  {
   "cell_type": "markdown",
   "id": "1f51ddb4-fc33-4c7d-9382-61c225abce51",
   "metadata": {},
   "source": [
    "## Import the unprocessed data"
   ]
  },
  {
   "cell_type": "code",
   "execution_count": 1,
   "id": "2a493f17-344e-4418-87a9-1ab3c47e8e62",
   "metadata": {},
   "outputs": [],
   "source": [
    "import pandas as pd"
   ]
  },
  {
   "cell_type": "code",
   "execution_count": 2,
   "id": "9f8a061d-7ccf-4c2f-ae77-d677e916e0fc",
   "metadata": {},
   "outputs": [],
   "source": [
    "df = pd.read_csv(\"la_aq.csv\")"
   ]
  },
  {
   "cell_type": "code",
   "execution_count": 3,
   "id": "bb714197-8f39-4662-82a7-c02da5e9db03",
   "metadata": {},
   "outputs": [],
   "source": [
    "df[\"DateTime\"] = pd.to_datetime(df[\"DateTime\"])"
   ]
  },
  {
   "cell_type": "code",
   "execution_count": 4,
   "id": "3edaa9e3-7b29-4dc8-a57b-710c8a5ac554",
   "metadata": {},
   "outputs": [
    {
     "data": {
      "text/html": [
       "<div>\n",
       "<style scoped>\n",
       "    .dataframe tbody tr th:only-of-type {\n",
       "        vertical-align: middle;\n",
       "    }\n",
       "\n",
       "    .dataframe tbody tr th {\n",
       "        vertical-align: top;\n",
       "    }\n",
       "\n",
       "    .dataframe thead th {\n",
       "        text-align: right;\n",
       "    }\n",
       "</style>\n",
       "<table border=\"1\" class=\"dataframe\">\n",
       "  <thead>\n",
       "    <tr style=\"text-align: right;\">\n",
       "      <th></th>\n",
       "      <th>DateTime</th>\n",
       "      <th>CO</th>\n",
       "      <th>NO2</th>\n",
       "      <th>O3</th>\n",
       "      <th>PM10</th>\n",
       "      <th>PM2.5</th>\n",
       "      <th>SO2</th>\n",
       "      <th>T</th>\n",
       "      <th>WD</th>\n",
       "      <th>WS</th>\n",
       "    </tr>\n",
       "  </thead>\n",
       "  <tbody>\n",
       "    <tr>\n",
       "      <th>0</th>\n",
       "      <td>2000-01-01 00:00:00</td>\n",
       "      <td>2.39</td>\n",
       "      <td>26.0</td>\n",
       "      <td>1.0</td>\n",
       "      <td>59.0</td>\n",
       "      <td>NaN</td>\n",
       "      <td>NaN</td>\n",
       "      <td>53.5</td>\n",
       "      <td>356.6</td>\n",
       "      <td>0.6</td>\n",
       "    </tr>\n",
       "    <tr>\n",
       "      <th>1</th>\n",
       "      <td>2000-01-01 01:00:00</td>\n",
       "      <td>2.28</td>\n",
       "      <td>25.0</td>\n",
       "      <td>1.0</td>\n",
       "      <td>42.0</td>\n",
       "      <td>NaN</td>\n",
       "      <td>NaN</td>\n",
       "      <td>53.6</td>\n",
       "      <td>0.7</td>\n",
       "      <td>1.1</td>\n",
       "    </tr>\n",
       "    <tr>\n",
       "      <th>2</th>\n",
       "      <td>2000-01-01 02:00:00</td>\n",
       "      <td>2.44</td>\n",
       "      <td>24.0</td>\n",
       "      <td>1.0</td>\n",
       "      <td>38.0</td>\n",
       "      <td>NaN</td>\n",
       "      <td>NaN</td>\n",
       "      <td>53.8</td>\n",
       "      <td>15.4</td>\n",
       "      <td>1.0</td>\n",
       "    </tr>\n",
       "    <tr>\n",
       "      <th>3</th>\n",
       "      <td>2000-01-01 03:00:00</td>\n",
       "      <td>2.59</td>\n",
       "      <td>22.0</td>\n",
       "      <td>2.0</td>\n",
       "      <td>68.0</td>\n",
       "      <td>NaN</td>\n",
       "      <td>NaN</td>\n",
       "      <td>53.6</td>\n",
       "      <td>33.8</td>\n",
       "      <td>1.3</td>\n",
       "    </tr>\n",
       "    <tr>\n",
       "      <th>4</th>\n",
       "      <td>2000-01-01 04:00:00</td>\n",
       "      <td>0.00</td>\n",
       "      <td>0.0</td>\n",
       "      <td>0.0</td>\n",
       "      <td>80.0</td>\n",
       "      <td>NaN</td>\n",
       "      <td>NaN</td>\n",
       "      <td>53.4</td>\n",
       "      <td>30.6</td>\n",
       "      <td>1.9</td>\n",
       "    </tr>\n",
       "  </tbody>\n",
       "</table>\n",
       "</div>"
      ],
      "text/plain": [
       "             DateTime    CO   NO2   O3  PM10  PM2.5  SO2     T     WD   WS\n",
       "0 2000-01-01 00:00:00  2.39  26.0  1.0  59.0    NaN  NaN  53.5  356.6  0.6\n",
       "1 2000-01-01 01:00:00  2.28  25.0  1.0  42.0    NaN  NaN  53.6    0.7  1.1\n",
       "2 2000-01-01 02:00:00  2.44  24.0  1.0  38.0    NaN  NaN  53.8   15.4  1.0\n",
       "3 2000-01-01 03:00:00  2.59  22.0  2.0  68.0    NaN  NaN  53.6   33.8  1.3\n",
       "4 2000-01-01 04:00:00  0.00   0.0  0.0  80.0    NaN  NaN  53.4   30.6  1.9"
      ]
     },
     "execution_count": 4,
     "metadata": {},
     "output_type": "execute_result"
    }
   ],
   "source": [
    "df.head()"
   ]
  },
  {
   "cell_type": "code",
   "execution_count": 5,
   "id": "22f3bfd5-c060-4b80-ab99-f96aa8f89fce",
   "metadata": {
    "tags": []
   },
   "outputs": [
    {
     "data": {
      "text/plain": [
       "count    185304.000000\n",
       "mean         20.972887\n",
       "std          18.495664\n",
       "min           0.000000\n",
       "25%           4.000000\n",
       "50%          18.000000\n",
       "75%          34.000000\n",
       "max         153.000000\n",
       "Name: O3, dtype: float64"
      ]
     },
     "execution_count": 5,
     "metadata": {},
     "output_type": "execute_result"
    }
   ],
   "source": [
    "df[\"O3\"].describe()"
   ]
  },
  {
   "cell_type": "markdown",
   "id": "643532e5-bb8c-42c6-acd9-fd31d0e707c9",
   "metadata": {
    "tags": []
   },
   "source": [
    "## Basic data cleaning\n",
    "This data set already looks pretty clean. Drop any rows that do not contain O3 values, as well as the columns that contain air pollutants that are not of interest here."
   ]
  },
  {
   "cell_type": "code",
   "execution_count": 6,
   "id": "a99a75e5-0da4-4069-b61b-5187868339c7",
   "metadata": {},
   "outputs": [
    {
     "data": {
      "text/html": [
       "<div>\n",
       "<style scoped>\n",
       "    .dataframe tbody tr th:only-of-type {\n",
       "        vertical-align: middle;\n",
       "    }\n",
       "\n",
       "    .dataframe tbody tr th {\n",
       "        vertical-align: top;\n",
       "    }\n",
       "\n",
       "    .dataframe thead th {\n",
       "        text-align: right;\n",
       "    }\n",
       "</style>\n",
       "<table border=\"1\" class=\"dataframe\">\n",
       "  <thead>\n",
       "    <tr style=\"text-align: right;\">\n",
       "      <th></th>\n",
       "      <th>DateTime</th>\n",
       "      <th>O3</th>\n",
       "      <th>T</th>\n",
       "      <th>WD</th>\n",
       "      <th>WS</th>\n",
       "    </tr>\n",
       "  </thead>\n",
       "  <tbody>\n",
       "    <tr>\n",
       "      <th>0</th>\n",
       "      <td>2000-01-01 00:00:00</td>\n",
       "      <td>1.0</td>\n",
       "      <td>53.5</td>\n",
       "      <td>356.6</td>\n",
       "      <td>0.6</td>\n",
       "    </tr>\n",
       "    <tr>\n",
       "      <th>1</th>\n",
       "      <td>2000-01-01 01:00:00</td>\n",
       "      <td>1.0</td>\n",
       "      <td>53.6</td>\n",
       "      <td>0.7</td>\n",
       "      <td>1.1</td>\n",
       "    </tr>\n",
       "    <tr>\n",
       "      <th>2</th>\n",
       "      <td>2000-01-01 02:00:00</td>\n",
       "      <td>1.0</td>\n",
       "      <td>53.8</td>\n",
       "      <td>15.4</td>\n",
       "      <td>1.0</td>\n",
       "    </tr>\n",
       "    <tr>\n",
       "      <th>3</th>\n",
       "      <td>2000-01-01 03:00:00</td>\n",
       "      <td>2.0</td>\n",
       "      <td>53.6</td>\n",
       "      <td>33.8</td>\n",
       "      <td>1.3</td>\n",
       "    </tr>\n",
       "    <tr>\n",
       "      <th>4</th>\n",
       "      <td>2000-01-01 04:00:00</td>\n",
       "      <td>0.0</td>\n",
       "      <td>53.4</td>\n",
       "      <td>30.6</td>\n",
       "      <td>1.9</td>\n",
       "    </tr>\n",
       "    <tr>\n",
       "      <th>...</th>\n",
       "      <td>...</td>\n",
       "      <td>...</td>\n",
       "      <td>...</td>\n",
       "      <td>...</td>\n",
       "      <td>...</td>\n",
       "    </tr>\n",
       "    <tr>\n",
       "      <th>185907</th>\n",
       "      <td>2021-12-31 19:00:00</td>\n",
       "      <td>5.0</td>\n",
       "      <td>52.0</td>\n",
       "      <td>11.0</td>\n",
       "      <td>2.0</td>\n",
       "    </tr>\n",
       "    <tr>\n",
       "      <th>185908</th>\n",
       "      <td>2021-12-31 20:00:00</td>\n",
       "      <td>6.0</td>\n",
       "      <td>52.0</td>\n",
       "      <td>2.0</td>\n",
       "      <td>3.0</td>\n",
       "    </tr>\n",
       "    <tr>\n",
       "      <th>185909</th>\n",
       "      <td>2021-12-31 21:00:00</td>\n",
       "      <td>4.0</td>\n",
       "      <td>51.0</td>\n",
       "      <td>7.0</td>\n",
       "      <td>2.0</td>\n",
       "    </tr>\n",
       "    <tr>\n",
       "      <th>185910</th>\n",
       "      <td>2021-12-31 22:00:00</td>\n",
       "      <td>1.0</td>\n",
       "      <td>49.0</td>\n",
       "      <td>6.0</td>\n",
       "      <td>3.0</td>\n",
       "    </tr>\n",
       "    <tr>\n",
       "      <th>185911</th>\n",
       "      <td>2021-12-31 23:00:00</td>\n",
       "      <td>1.0</td>\n",
       "      <td>49.0</td>\n",
       "      <td>10.0</td>\n",
       "      <td>2.0</td>\n",
       "    </tr>\n",
       "  </tbody>\n",
       "</table>\n",
       "<p>185304 rows × 5 columns</p>\n",
       "</div>"
      ],
      "text/plain": [
       "                  DateTime   O3     T     WD   WS\n",
       "0      2000-01-01 00:00:00  1.0  53.5  356.6  0.6\n",
       "1      2000-01-01 01:00:00  1.0  53.6    0.7  1.1\n",
       "2      2000-01-01 02:00:00  1.0  53.8   15.4  1.0\n",
       "3      2000-01-01 03:00:00  2.0  53.6   33.8  1.3\n",
       "4      2000-01-01 04:00:00  0.0  53.4   30.6  1.9\n",
       "...                    ...  ...   ...    ...  ...\n",
       "185907 2021-12-31 19:00:00  5.0  52.0   11.0  2.0\n",
       "185908 2021-12-31 20:00:00  6.0  52.0    2.0  3.0\n",
       "185909 2021-12-31 21:00:00  4.0  51.0    7.0  2.0\n",
       "185910 2021-12-31 22:00:00  1.0  49.0    6.0  3.0\n",
       "185911 2021-12-31 23:00:00  1.0  49.0   10.0  2.0\n",
       "\n",
       "[185304 rows x 5 columns]"
      ]
     },
     "execution_count": 6,
     "metadata": {},
     "output_type": "execute_result"
    }
   ],
   "source": [
    "df = df[[\"DateTime\", \"O3\", \"T\", \"WD\", \"WS\"]]\n",
    "df = df[df[\"O3\"].notna()]\n",
    "df"
   ]
  },
  {
   "cell_type": "code",
   "execution_count": 7,
   "id": "807b3a22-4bde-4296-9869-87657f0341e2",
   "metadata": {},
   "outputs": [
    {
     "data": {
      "text/plain": [
       "0"
      ]
     },
     "execution_count": 7,
     "metadata": {},
     "output_type": "execute_result"
    }
   ],
   "source": [
    "df[\"O3\"].isna().sum()"
   ]
  },
  {
   "cell_type": "markdown",
   "id": "e12a354f-2372-4c7c-acf6-0e8fa60ce260",
   "metadata": {},
   "source": [
    "Confirmed -- there are no rows left that do not contain a value for O3."
   ]
  },
  {
   "cell_type": "markdown",
   "id": "b9bf3062-33c1-4233-b0ba-554a31356690",
   "metadata": {},
   "source": [
    "## Visualize the data"
   ]
  },
  {
   "cell_type": "markdown",
   "id": "628a2f54-dfc1-403a-ad8e-df929a01f380",
   "metadata": {
    "tags": []
   },
   "source": [
    "### For seasonality with each year"
   ]
  },
  {
   "cell_type": "code",
   "execution_count": 8,
   "id": "f46ed507-77b5-4760-8cc2-e2085fb2abcb",
   "metadata": {},
   "outputs": [],
   "source": [
    "from datetime import datetime"
   ]
  },
  {
   "cell_type": "code",
   "execution_count": 9,
   "id": "d43fb54f-03aa-4cf3-812e-142c148cbacf",
   "metadata": {
    "tags": []
   },
   "outputs": [
    {
     "data": {
      "text/plain": [
       "<AxesSubplot:xlabel='DateTime'>"
      ]
     },
     "execution_count": 9,
     "metadata": {},
     "output_type": "execute_result"
    },
    {
     "data": {
      "image/png": "[encoded data removed]",
      "text/plain": [
       "<Figure size 720x288 with 1 Axes>"
      ]
     },
     "metadata": {
      "needs_background": "light"
     },
     "output_type": "display_data"
    }
   ],
   "source": [
    "start_date = datetime(2000, 1, 1)\n",
    "end_date = datetime(2021, 12, 31)\n",
    "\n",
    "annual_plt = df.plot(kind = \"line\",\n",
    "                     x = \"DateTime\",\n",
    "                     y = \"O3\",\n",
    "                     figsize = (10, 4),\n",
    "                     xlim = (start_date, end_date),\n",
    "                     xticks = pd.date_range(start = start_date,\n",
    "                                            end = end_date,\n",
    "                                            freq = \"2Y\").tolist()\n",
    "                    )\n",
    "annual_plt"
   ]
  },
  {
   "cell_type": "markdown",
   "id": "3309a5cc-e444-4f3a-af1e-c719f2263175",
   "metadata": {},
   "source": [
    "**Ozone pollution is cyclical within each year,** with a peak in the hot summer months."
   ]
  },
  {
   "cell_type": "markdown",
   "id": "e7114418-5596-438a-b649-d80b28882c7a",
   "metadata": {},
   "source": [
    "### For short-term seasonality"
   ]
  },
  {
   "cell_type": "code",
   "execution_count": 10,
   "id": "8e03c244-3dea-4452-9d8d-aebb456f04bd",
   "metadata": {},
   "outputs": [
    {
     "data": {
      "text/plain": [
       "<AxesSubplot:xlabel='DateTime'>"
      ]
     },
     "execution_count": 10,
     "metadata": {},
     "output_type": "execute_result"
    },
    {
     "data": {
      "image/png": "[encoded data removed]",
      "text/plain": [
       "<Figure size 720x288 with 1 Axes>"
      ]
     },
     "metadata": {
      "needs_background": "light"
     },
     "output_type": "display_data"
    }
   ],
   "source": [
    "start_date = datetime(2020, 1, 1)\n",
    "end_date = datetime(2020, 1, 31)\n",
    "\n",
    "daily_plt = df.plot(kind = \"line\",\n",
    "                     x = \"DateTime\",\n",
    "                     y = \"O3\",\n",
    "                     figsize = (10, 4),\n",
    "                     xlim = (start_date, end_date),\n",
    "                     xticks = pd.date_range(start = start_date,\n",
    "                                            end = end_date,\n",
    "                                            freq = \"7D\").tolist()\n",
    "                    )\n",
    "daily_plt"
   ]
  },
  {
   "cell_type": "markdown",
   "id": "a6aede15-d49a-4e47-ac5a-4cceaa19dcfd",
   "metadata": {},
   "source": [
    "**Ozone pollution is also cyclical within each day**, with a peak each afternoon."
   ]
  },
  {
   "cell_type": "markdown",
   "id": "bff573b8-cc5d-45f2-b586-a661dd78d7d2",
   "metadata": {
    "tags": []
   },
   "source": [
    "### For distribution of ozone values\n",
    "This will help determine if they need to be transformed before training the model."
   ]
  },
  {
   "cell_type": "code",
   "execution_count": 11,
   "id": "c4fb3582-1132-4bb6-9180-f6887db722ab",
   "metadata": {},
   "outputs": [
    {
     "data": {
      "text/plain": [
       "<AxesSubplot:>"
      ]
     },
     "execution_count": 11,
     "metadata": {},
     "output_type": "execute_result"
    },
    {
     "data": {
      "image/png": "[encoded data removed]",
      "text/plain": [
       "<Figure size 432x288 with 1 Axes>"
      ]
     },
     "metadata": {
      "needs_background": "light"
     },
     "output_type": "display_data"
    }
   ],
   "source": [
    "hist = df[\"O3\"].hist(bins = 20)\n",
    "hist"
   ]
  },
  {
   "cell_type": "markdown",
   "id": "40c3b317-22dc-49ab-9e85-7565d328b581",
   "metadata": {},
   "source": [
    "With a long tail of high O3 values, this data may ultimately benefit from a log transformation."
   ]
  },
  {
   "cell_type": "markdown",
   "id": "fd4c86e0-6d35-43df-b881-133b047bc376",
   "metadata": {},
   "source": [
    "## Feature engineering"
   ]
  },
  {
   "cell_type": "markdown",
   "id": "1b2dd33f-c5a0-46b5-83cb-4947aac46bda",
   "metadata": {},
   "source": [
    "In this section, additional potential features are introduced to the dataframe. Their correlation to ozone pollution, if any, is calculated later."
   ]
  },
  {
   "cell_type": "markdown",
   "id": "c2f275f8-e91b-46a4-b407-0414d464d226",
   "metadata": {},
   "source": [
    "### To categorize the date/time component"
   ]
  },
  {
   "cell_type": "markdown",
   "id": "0df0ac52-bae3-4806-aa78-a96e3ec590de",
   "metadata": {},
   "source": [
    "Here, the date/time component is broken into categorical data (month of the year, day of the month, etc.)."
   ]
  },
  {
   "cell_type": "code",
   "execution_count": 12,
   "id": "5253a850-e4b9-4891-ab1e-111a4d64ba2e",
   "metadata": {},
   "outputs": [],
   "source": [
    "df[\"Year\"] = df[\"DateTime\"].dt.year\n",
    "df[\"Month\"] = df[\"DateTime\"].dt.month\n",
    "df[\"DayOfMonth\"] = df[\"DateTime\"].dt.day\n",
    "df[\"DayOfWeek\"] = df[\"DateTime\"].dt.dayofweek\n",
    "df[\"DayOfYear\"] = df[\"DateTime\"].dt.dayofyear\n",
    "df[\"Hour\"] = df[\"DateTime\"].dt.hour"
   ]
  },
  {
   "cell_type": "code",
   "execution_count": 13,
   "id": "8a7bd4a3-9498-4cd1-a3ae-9a21cb236a9b",
   "metadata": {},
   "outputs": [
    {
     "data": {
      "text/html": [
       "<div>\n",
       "<style scoped>\n",
       "    .dataframe tbody tr th:only-of-type {\n",
       "        vertical-align: middle;\n",
       "    }\n",
       "\n",
       "    .dataframe tbody tr th {\n",
       "        vertical-align: top;\n",
       "    }\n",
       "\n",
       "    .dataframe thead th {\n",
       "        text-align: right;\n",
       "    }\n",
       "</style>\n",
       "<table border=\"1\" class=\"dataframe\">\n",
       "  <thead>\n",
       "    <tr style=\"text-align: right;\">\n",
       "      <th></th>\n",
       "      <th>DateTime</th>\n",
       "      <th>O3</th>\n",
       "      <th>T</th>\n",
       "      <th>WD</th>\n",
       "      <th>WS</th>\n",
       "      <th>Year</th>\n",
       "      <th>Month</th>\n",
       "      <th>DayOfMonth</th>\n",
       "      <th>DayOfWeek</th>\n",
       "      <th>DayOfYear</th>\n",
       "      <th>Hour</th>\n",
       "    </tr>\n",
       "  </thead>\n",
       "  <tbody>\n",
       "    <tr>\n",
       "      <th>0</th>\n",
       "      <td>2000-01-01 00:00:00</td>\n",
       "      <td>1.0</td>\n",
       "      <td>53.5</td>\n",
       "      <td>356.6</td>\n",
       "      <td>0.6</td>\n",
       "      <td>2000</td>\n",
       "      <td>1</td>\n",
       "      <td>1</td>\n",
       "      <td>5</td>\n",
       "      <td>1</td>\n",
       "      <td>0</td>\n",
       "    </tr>\n",
       "    <tr>\n",
       "      <th>1</th>\n",
       "      <td>2000-01-01 01:00:00</td>\n",
       "      <td>1.0</td>\n",
       "      <td>53.6</td>\n",
       "      <td>0.7</td>\n",
       "      <td>1.1</td>\n",
       "      <td>2000</td>\n",
       "      <td>1</td>\n",
       "      <td>1</td>\n",
       "      <td>5</td>\n",
       "      <td>1</td>\n",
       "      <td>1</td>\n",
       "    </tr>\n",
       "    <tr>\n",
       "      <th>2</th>\n",
       "      <td>2000-01-01 02:00:00</td>\n",
       "      <td>1.0</td>\n",
       "      <td>53.8</td>\n",
       "      <td>15.4</td>\n",
       "      <td>1.0</td>\n",
       "      <td>2000</td>\n",
       "      <td>1</td>\n",
       "      <td>1</td>\n",
       "      <td>5</td>\n",
       "      <td>1</td>\n",
       "      <td>2</td>\n",
       "    </tr>\n",
       "    <tr>\n",
       "      <th>3</th>\n",
       "      <td>2000-01-01 03:00:00</td>\n",
       "      <td>2.0</td>\n",
       "      <td>53.6</td>\n",
       "      <td>33.8</td>\n",
       "      <td>1.3</td>\n",
       "      <td>2000</td>\n",
       "      <td>1</td>\n",
       "      <td>1</td>\n",
       "      <td>5</td>\n",
       "      <td>1</td>\n",
       "      <td>3</td>\n",
       "    </tr>\n",
       "    <tr>\n",
       "      <th>4</th>\n",
       "      <td>2000-01-01 04:00:00</td>\n",
       "      <td>0.0</td>\n",
       "      <td>53.4</td>\n",
       "      <td>30.6</td>\n",
       "      <td>1.9</td>\n",
       "      <td>2000</td>\n",
       "      <td>1</td>\n",
       "      <td>1</td>\n",
       "      <td>5</td>\n",
       "      <td>1</td>\n",
       "      <td>4</td>\n",
       "    </tr>\n",
       "  </tbody>\n",
       "</table>\n",
       "</div>"
      ],
      "text/plain": [
       "             DateTime   O3     T     WD   WS  Year  Month  DayOfMonth  \\\n",
       "0 2000-01-01 00:00:00  1.0  53.5  356.6  0.6  2000      1           1   \n",
       "1 2000-01-01 01:00:00  1.0  53.6    0.7  1.1  2000      1           1   \n",
       "2 2000-01-01 02:00:00  1.0  53.8   15.4  1.0  2000      1           1   \n",
       "3 2000-01-01 03:00:00  2.0  53.6   33.8  1.3  2000      1           1   \n",
       "4 2000-01-01 04:00:00  0.0  53.4   30.6  1.9  2000      1           1   \n",
       "\n",
       "   DayOfWeek  DayOfYear  Hour  \n",
       "0          5          1     0  \n",
       "1          5          1     1  \n",
       "2          5          1     2  \n",
       "3          5          1     3  \n",
       "4          5          1     4  "
      ]
     },
     "execution_count": 13,
     "metadata": {},
     "output_type": "execute_result"
    }
   ],
   "source": [
    "df.head()"
   ]
  },
  {
   "cell_type": "markdown",
   "id": "88a66983-6959-497d-b706-e2ccb730d120",
   "metadata": {},
   "source": [
    "### To indicate which data points exceed EPA limits"
   ]
  },
  {
   "cell_type": "markdown",
   "id": "d945b0d2-a44a-4761-8349-3159efac7799",
   "metadata": {},
   "source": [
    "Which data points exceed the [current US EPA limits of 70 ppb](https://www.govinfo.gov/content/pkg/FR-2015-10-26/pdf/2015-26594.pdf)? Introduce a new binary feature."
   ]
  },
  {
   "cell_type": "code",
   "execution_count": 14,
   "id": "1eeeeac1-cc88-4f7f-b242-380c7bd38130",
   "metadata": {},
   "outputs": [],
   "source": [
    "df[\"ExceedsLimit\"] = df[\"O3\"] > 70"
   ]
  },
  {
   "cell_type": "code",
   "execution_count": 15,
   "id": "1195f51f-8953-40d8-a4ad-1e6cee065053",
   "metadata": {},
   "outputs": [
    {
     "data": {
      "text/plain": [
       "0.011321935845961232"
      ]
     },
     "execution_count": 15,
     "metadata": {},
     "output_type": "execute_result"
    }
   ],
   "source": [
    "# Fraction of data points exceeding the limit:\n",
    "df[\"ExceedsLimit\"].sum() / len(df)"
   ]
  },
  {
   "cell_type": "markdown",
   "id": "5a9c8fc2-25e4-4f7c-9965-bc4d19a2fb48",
   "metadata": {},
   "source": [
    "Only about 1% of data points show ozone pollution that exceeds the EPA standard."
   ]
  },
  {
   "cell_type": "markdown",
   "id": "493dcc90-b9bc-43a2-9b0a-f7282f01b4c8",
   "metadata": {},
   "source": [
    "### To transform wind data"
   ]
  },
  {
   "cell_type": "markdown",
   "id": "b097a9ff-234a-4eec-809b-5628f4ce1849",
   "metadata": {},
   "source": [
    "The data set contains wind speed and wind direction. However, these potential features may only be meaningful when taken together. For example, fast wind from the ocean to the southwest may be different from fast wind from the desert to the northeast.\n",
    "\n",
    "Transform the wind data into a vectorized format, reflecting the wind speed in the north-south (with north as positive) and east-west (with east as positive) directions."
   ]
  },
  {
   "cell_type": "code",
   "execution_count": 16,
   "id": "41128190-dd2c-4132-ae4c-d1eed5e83e8a",
   "metadata": {
    "tags": []
   },
   "outputs": [],
   "source": [
    "from numpy import radians, sin, cos"
   ]
  },
  {
   "cell_type": "code",
   "execution_count": 17,
   "id": "7e9df5dc-9671-4686-a16f-99b3aec96c67",
   "metadata": {},
   "outputs": [],
   "source": [
    "df[\"WindNvec\"] = cos(radians(df[\"WD\"])) * df[\"WS\"]\n",
    "df[\"WindEvec\"] = sin(radians(df[\"WD\"])) * df[\"WS\"] "
   ]
  },
  {
   "cell_type": "code",
   "execution_count": 18,
   "id": "fc58953b-a118-4ca0-98a5-6aa2715f0442",
   "metadata": {},
   "outputs": [
    {
     "data": {
      "text/plain": [
       "<AxesSubplot:xlabel='WindEvec', ylabel='WindNvec'>"
      ]
     },
     "execution_count": 18,
     "metadata": {},
     "output_type": "execute_result"
    },
    {
     "data": {
      "image/png": "[encoded data removed]",
      "text/plain": [
       "<Figure size 360x360 with 2 Axes>"
      ]
     },
     "metadata": {
      "needs_background": "light"
     },
     "output_type": "display_data"
    }
   ],
   "source": [
    "windvec = df.plot(kind = \"hexbin\", x = \"WindEvec\", y = \"WindNvec\", C = \"O3\",\n",
    "                  figsize = (5, 5), colormap = \"coolwarm\", colorbar = True,\n",
    "                  xlim = (-20, 20), ylim = (-20, 20)) \n",
    "windvec"
   ]
  },
  {
   "cell_type": "markdown",
   "id": "6804f5ef-a521-4e52-b756-d3de2c585a36",
   "metadata": {},
   "source": [
    "## Correlation coefficients"
   ]
  },
  {
   "cell_type": "markdown",
   "id": "40cf8157-e839-4126-b0ca-ef6e73367f89",
   "metadata": {},
   "source": [
    "Let's take a look at the correlation coefficients here, with the caveat that any of the cyclical date/time features won't be monotonic, and therefore won't give a meaningful correlation coefficient:"
   ]
  },
  {
   "cell_type": "code",
   "execution_count": 19,
   "id": "de6acf8f-1da1-4927-bf72-5a6a8a9a58ca",
   "metadata": {},
   "outputs": [
    {
     "data": {
      "text/html": [
       "<div>\n",
       "<style scoped>\n",
       "    .dataframe tbody tr th:only-of-type {\n",
       "        vertical-align: middle;\n",
       "    }\n",
       "\n",
       "    .dataframe tbody tr th {\n",
       "        vertical-align: top;\n",
       "    }\n",
       "\n",
       "    .dataframe thead th {\n",
       "        text-align: right;\n",
       "    }\n",
       "</style>\n",
       "<table border=\"1\" class=\"dataframe\">\n",
       "  <thead>\n",
       "    <tr style=\"text-align: right;\">\n",
       "      <th></th>\n",
       "      <th>O3</th>\n",
       "      <th>T</th>\n",
       "      <th>WD</th>\n",
       "      <th>WS</th>\n",
       "      <th>Year</th>\n",
       "      <th>Month</th>\n",
       "      <th>DayOfMonth</th>\n",
       "      <th>DayOfWeek</th>\n",
       "      <th>DayOfYear</th>\n",
       "      <th>Hour</th>\n",
       "      <th>ExceedsLimit</th>\n",
       "      <th>WindNvec</th>\n",
       "      <th>WindEvec</th>\n",
       "    </tr>\n",
       "  </thead>\n",
       "  <tbody>\n",
       "    <tr>\n",
       "      <th>O3</th>\n",
       "      <td>1.000000</td>\n",
       "      <td>0.460451</td>\n",
       "      <td>0.396714</td>\n",
       "      <td>0.402112</td>\n",
       "      <td>0.151819</td>\n",
       "      <td>-0.038059</td>\n",
       "      <td>0.012300</td>\n",
       "      <td>0.071424</td>\n",
       "      <td>-0.036897</td>\n",
       "      <td>0.259224</td>\n",
       "      <td>0.183363</td>\n",
       "      <td>-0.563195</td>\n",
       "      <td>-0.583854</td>\n",
       "    </tr>\n",
       "    <tr>\n",
       "      <th>T</th>\n",
       "      <td>0.460451</td>\n",
       "      <td>1.000000</td>\n",
       "      <td>0.462866</td>\n",
       "      <td>0.346354</td>\n",
       "      <td>0.011577</td>\n",
       "      <td>0.173731</td>\n",
       "      <td>0.001934</td>\n",
       "      <td>-0.006235</td>\n",
       "      <td>0.173039</td>\n",
       "      <td>0.170678</td>\n",
       "      <td>0.149335</td>\n",
       "      <td>-0.496624</td>\n",
       "      <td>-0.446482</td>\n",
       "    </tr>\n",
       "    <tr>\n",
       "      <th>WD</th>\n",
       "      <td>0.396714</td>\n",
       "      <td>0.462866</td>\n",
       "      <td>1.000000</td>\n",
       "      <td>0.364014</td>\n",
       "      <td>-0.040989</td>\n",
       "      <td>-0.003768</td>\n",
       "      <td>0.013653</td>\n",
       "      <td>0.000337</td>\n",
       "      <td>-0.002836</td>\n",
       "      <td>0.265052</td>\n",
       "      <td>0.062589</td>\n",
       "      <td>-0.351034</td>\n",
       "      <td>-0.744210</td>\n",
       "    </tr>\n",
       "    <tr>\n",
       "      <th>WS</th>\n",
       "      <td>0.402112</td>\n",
       "      <td>0.346354</td>\n",
       "      <td>0.364014</td>\n",
       "      <td>1.000000</td>\n",
       "      <td>-0.156015</td>\n",
       "      <td>-0.049875</td>\n",
       "      <td>0.004253</td>\n",
       "      <td>-0.006873</td>\n",
       "      <td>-0.049632</td>\n",
       "      <td>0.159372</td>\n",
       "      <td>0.106463</td>\n",
       "      <td>-0.263295</td>\n",
       "      <td>-0.362151</td>\n",
       "    </tr>\n",
       "    <tr>\n",
       "      <th>Year</th>\n",
       "      <td>0.151819</td>\n",
       "      <td>0.011577</td>\n",
       "      <td>-0.040989</td>\n",
       "      <td>-0.156015</td>\n",
       "      <td>1.000000</td>\n",
       "      <td>-0.002145</td>\n",
       "      <td>0.001714</td>\n",
       "      <td>0.000810</td>\n",
       "      <td>-0.002303</td>\n",
       "      <td>0.000196</td>\n",
       "      <td>-0.016820</td>\n",
       "      <td>0.046451</td>\n",
       "      <td>0.003979</td>\n",
       "    </tr>\n",
       "    <tr>\n",
       "      <th>Month</th>\n",
       "      <td>-0.038059</td>\n",
       "      <td>0.173731</td>\n",
       "      <td>-0.003768</td>\n",
       "      <td>-0.049875</td>\n",
       "      <td>-0.002145</td>\n",
       "      <td>1.000000</td>\n",
       "      <td>0.010356</td>\n",
       "      <td>-0.000723</td>\n",
       "      <td>0.996501</td>\n",
       "      <td>-0.000460</td>\n",
       "      <td>0.029306</td>\n",
       "      <td>0.012880</td>\n",
       "      <td>-0.010412</td>\n",
       "    </tr>\n",
       "    <tr>\n",
       "      <th>DayOfMonth</th>\n",
       "      <td>0.012300</td>\n",
       "      <td>0.001934</td>\n",
       "      <td>0.013653</td>\n",
       "      <td>0.004253</td>\n",
       "      <td>0.001714</td>\n",
       "      <td>0.010356</td>\n",
       "      <td>1.000000</td>\n",
       "      <td>0.000362</td>\n",
       "      <td>0.093657</td>\n",
       "      <td>0.000071</td>\n",
       "      <td>-0.007831</td>\n",
       "      <td>0.003708</td>\n",
       "      <td>-0.011139</td>\n",
       "    </tr>\n",
       "    <tr>\n",
       "      <th>DayOfWeek</th>\n",
       "      <td>0.071424</td>\n",
       "      <td>-0.006235</td>\n",
       "      <td>0.000337</td>\n",
       "      <td>-0.006873</td>\n",
       "      <td>0.000810</td>\n",
       "      <td>-0.000723</td>\n",
       "      <td>0.000362</td>\n",
       "      <td>1.000000</td>\n",
       "      <td>-0.000685</td>\n",
       "      <td>-0.000894</td>\n",
       "      <td>0.050797</td>\n",
       "      <td>-0.011629</td>\n",
       "      <td>-0.004440</td>\n",
       "    </tr>\n",
       "    <tr>\n",
       "      <th>DayOfYear</th>\n",
       "      <td>-0.036897</td>\n",
       "      <td>0.173039</td>\n",
       "      <td>-0.002836</td>\n",
       "      <td>-0.049632</td>\n",
       "      <td>-0.002303</td>\n",
       "      <td>0.996501</td>\n",
       "      <td>0.093657</td>\n",
       "      <td>-0.000685</td>\n",
       "      <td>1.000000</td>\n",
       "      <td>-0.000457</td>\n",
       "      <td>0.028612</td>\n",
       "      <td>0.012739</td>\n",
       "      <td>-0.011511</td>\n",
       "    </tr>\n",
       "    <tr>\n",
       "      <th>Hour</th>\n",
       "      <td>0.259224</td>\n",
       "      <td>0.170678</td>\n",
       "      <td>0.265052</td>\n",
       "      <td>0.159372</td>\n",
       "      <td>0.000196</td>\n",
       "      <td>-0.000460</td>\n",
       "      <td>0.000071</td>\n",
       "      <td>-0.000894</td>\n",
       "      <td>-0.000457</td>\n",
       "      <td>1.000000</td>\n",
       "      <td>0.033306</td>\n",
       "      <td>-0.241232</td>\n",
       "      <td>-0.347014</td>\n",
       "    </tr>\n",
       "    <tr>\n",
       "      <th>ExceedsLimit</th>\n",
       "      <td>0.183363</td>\n",
       "      <td>0.149335</td>\n",
       "      <td>0.062589</td>\n",
       "      <td>0.106463</td>\n",
       "      <td>-0.016820</td>\n",
       "      <td>0.029306</td>\n",
       "      <td>-0.007831</td>\n",
       "      <td>0.050797</td>\n",
       "      <td>0.028612</td>\n",
       "      <td>0.033306</td>\n",
       "      <td>1.000000</td>\n",
       "      <td>-0.091970</td>\n",
       "      <td>-0.114985</td>\n",
       "    </tr>\n",
       "    <tr>\n",
       "      <th>WindNvec</th>\n",
       "      <td>-0.563195</td>\n",
       "      <td>-0.496624</td>\n",
       "      <td>-0.351034</td>\n",
       "      <td>-0.263295</td>\n",
       "      <td>0.046451</td>\n",
       "      <td>0.012880</td>\n",
       "      <td>0.003708</td>\n",
       "      <td>-0.011629</td>\n",
       "      <td>0.012739</td>\n",
       "      <td>-0.241232</td>\n",
       "      <td>-0.091970</td>\n",
       "      <td>1.000000</td>\n",
       "      <td>0.558034</td>\n",
       "    </tr>\n",
       "    <tr>\n",
       "      <th>WindEvec</th>\n",
       "      <td>-0.583854</td>\n",
       "      <td>-0.446482</td>\n",
       "      <td>-0.744210</td>\n",
       "      <td>-0.362151</td>\n",
       "      <td>0.003979</td>\n",
       "      <td>-0.010412</td>\n",
       "      <td>-0.011139</td>\n",
       "      <td>-0.004440</td>\n",
       "      <td>-0.011511</td>\n",
       "      <td>-0.347014</td>\n",
       "      <td>-0.114985</td>\n",
       "      <td>0.558034</td>\n",
       "      <td>1.000000</td>\n",
       "    </tr>\n",
       "  </tbody>\n",
       "</table>\n",
       "</div>"
      ],
      "text/plain": [
       "                    O3         T        WD        WS      Year     Month  \\\n",
       "O3            1.000000  0.460451  0.396714  0.402112  0.151819 -0.038059   \n",
       "T             0.460451  1.000000  0.462866  0.346354  0.011577  0.173731   \n",
       "WD            0.396714  0.462866  1.000000  0.364014 -0.040989 -0.003768   \n",
       "WS            0.402112  0.346354  0.364014  1.000000 -0.156015 -0.049875   \n",
       "Year          0.151819  0.011577 -0.040989 -0.156015  1.000000 -0.002145   \n",
       "Month        -0.038059  0.173731 -0.003768 -0.049875 -0.002145  1.000000   \n",
       "DayOfMonth    0.012300  0.001934  0.013653  0.004253  0.001714  0.010356   \n",
       "DayOfWeek     0.071424 -0.006235  0.000337 -0.006873  0.000810 -0.000723   \n",
       "DayOfYear    -0.036897  0.173039 -0.002836 -0.049632 -0.002303  0.996501   \n",
       "Hour          0.259224  0.170678  0.265052  0.159372  0.000196 -0.000460   \n",
       "ExceedsLimit  0.183363  0.149335  0.062589  0.106463 -0.016820  0.029306   \n",
       "WindNvec     -0.563195 -0.496624 -0.351034 -0.263295  0.046451  0.012880   \n",
       "WindEvec     -0.583854 -0.446482 -0.744210 -0.362151  0.003979 -0.010412   \n",
       "\n",
       "              DayOfMonth  DayOfWeek  DayOfYear      Hour  ExceedsLimit  \\\n",
       "O3              0.012300   0.071424  -0.036897  0.259224      0.183363   \n",
       "T               0.001934  -0.006235   0.173039  0.170678      0.149335   \n",
       "WD              0.013653   0.000337  -0.002836  0.265052      0.062589   \n",
       "WS              0.004253  -0.006873  -0.049632  0.159372      0.106463   \n",
       "Year            0.001714   0.000810  -0.002303  0.000196     -0.016820   \n",
       "Month           0.010356  -0.000723   0.996501 -0.000460      0.029306   \n",
       "DayOfMonth      1.000000   0.000362   0.093657  0.000071     -0.007831   \n",
       "DayOfWeek       0.000362   1.000000  -0.000685 -0.000894      0.050797   \n",
       "DayOfYear       0.093657  -0.000685   1.000000 -0.000457      0.028612   \n",
       "Hour            0.000071  -0.000894  -0.000457  1.000000      0.033306   \n",
       "ExceedsLimit   -0.007831   0.050797   0.028612  0.033306      1.000000   \n",
       "WindNvec        0.003708  -0.011629   0.012739 -0.241232     -0.091970   \n",
       "WindEvec       -0.011139  -0.004440  -0.011511 -0.347014     -0.114985   \n",
       "\n",
       "              WindNvec  WindEvec  \n",
       "O3           -0.563195 -0.583854  \n",
       "T            -0.496624 -0.446482  \n",
       "WD           -0.351034 -0.744210  \n",
       "WS           -0.263295 -0.362151  \n",
       "Year          0.046451  0.003979  \n",
       "Month         0.012880 -0.010412  \n",
       "DayOfMonth    0.003708 -0.011139  \n",
       "DayOfWeek    -0.011629 -0.004440  \n",
       "DayOfYear     0.012739 -0.011511  \n",
       "Hour         -0.241232 -0.347014  \n",
       "ExceedsLimit -0.091970 -0.114985  \n",
       "WindNvec      1.000000  0.558034  \n",
       "WindEvec      0.558034  1.000000  "
      ]
     },
     "execution_count": 19,
     "metadata": {},
     "output_type": "execute_result"
    }
   ],
   "source": [
    "df.corr(method = \"spearman\")"
   ]
  },
  {
   "cell_type": "markdown",
   "id": "a2ed394e-d145-4daa-aa09-afb486a549d0",
   "metadata": {},
   "source": [
    "Correlation coefficients suggest a meaningful correlation between ozone levels and the three weather parameters -- temperature, wind speed, and wind direction. The vectorized wind features (`WindNvec` and `WindEvec`) are more strongly correlated to ozone pollution than the raw wind speed and direction (`WS` and `WD`)."
   ]
  },
  {
   "cell_type": "markdown",
   "id": "2509a0e2-8eeb-4de5-a240-1406fd6b3162",
   "metadata": {},
   "source": [
    "**Three features should be used for subsequent development: air temperature `T`, the northerly wind vector `WindNvec`, and the easterly wind vector `WindEvec`.**"
   ]
  },
  {
   "cell_type": "markdown",
   "id": "ed3e6ede-9c2d-4125-813b-64f1b308e4d5",
   "metadata": {},
   "source": [
    "# Finish cleaning the data\n",
    "There are a lot of zero values for wind speed, wind direction, and temperature. While no wind is certainly reasonable, 0 degrees F certainly isn't plausible in Southern California. Fill these values with NaN."
   ]
  },
  {
   "cell_type": "code",
   "execution_count": 20,
   "id": "fe13b541-5b79-4082-a1a5-fc961e68e916",
   "metadata": {},
   "outputs": [],
   "source": [
    "from numpy import nan\n",
    "\n",
    "def remove_zero_temps(row):\n",
    "    if row[\"T\"] == 0:\n",
    "        row[\"T\"] = nan\n",
    "    return row"
   ]
  },
  {
   "cell_type": "code",
   "execution_count": 21,
   "id": "ad84b215-5e07-4b66-8377-b0712654d854",
   "metadata": {},
   "outputs": [],
   "source": [
    "df = df.apply(remove_zero_temps, axis = 1)"
   ]
  },
  {
   "cell_type": "code",
   "execution_count": 22,
   "id": "29b1dfe3-f3db-4c9f-98f4-26cfee5f0e23",
   "metadata": {},
   "outputs": [
    {
     "data": {
      "text/plain": [
       "count    168902.000000\n",
       "mean         64.865738\n",
       "std          10.489713\n",
       "min          26.700000\n",
       "25%          57.400000\n",
       "50%          64.000000\n",
       "75%          71.300000\n",
       "max         113.100000\n",
       "Name: T, dtype: float64"
      ]
     },
     "execution_count": 22,
     "metadata": {},
     "output_type": "execute_result"
    }
   ],
   "source": [
    "df[\"T\"].describe()"
   ]
  },
  {
   "cell_type": "markdown",
   "id": "cd413548-483a-4b92-9b63-0b46e90e2b05",
   "metadata": {},
   "source": [
    "Now erroneous temperatures of 0 degrees F have been removed."
   ]
  },
  {
   "cell_type": "markdown",
   "id": "ec2acd89-8cc1-4ca0-b8cb-4475db8135e5",
   "metadata": {},
   "source": [
    "## Save processed data"
   ]
  },
  {
   "cell_type": "code",
   "execution_count": 23,
   "id": "bb84150e-3beb-4484-ac04-aacc465ef08a",
   "metadata": {},
   "outputs": [
    {
     "data": {
      "text/plain": [
       "Index(['DateTime', 'O3', 'T', 'WD', 'WS', 'Year', 'Month', 'DayOfMonth',\n",
       "       'DayOfWeek', 'DayOfYear', 'Hour', 'ExceedsLimit', 'WindNvec',\n",
       "       'WindEvec'],\n",
       "      dtype='object')"
      ]
     },
     "execution_count": 23,
     "metadata": {},
     "output_type": "execute_result"
    }
   ],
   "source": [
    "# List all the available potential features\n",
    "df.columns"
   ]
  },
  {
   "cell_type": "code",
   "execution_count": 24,
   "id": "3c1f2bed-def3-401b-b35d-4b17dc170a3b",
   "metadata": {},
   "outputs": [],
   "source": [
    "# Decide which ones to export\n",
    "keepcols = [\"DateTime\", \"Year\", \"Month\", \"DayOfMonth\", \"DayOfWeek\", \"DayOfYear\", \"Hour\", \"O3\", \"T\", \"WS\", \"WD\", \"ExceedsLimit\"]"
   ]
  },
  {
   "cell_type": "code",
   "execution_count": 25,
   "id": "2ad0bd9d-ebef-4df1-ab78-848c32f6c0c9",
   "metadata": {},
   "outputs": [],
   "source": [
    "df[keepcols].to_csv(\"cleaned_O3_data.csv\", index = False)"
   ]
  }
 ],
 "metadata": {
  "kernelspec": {
   "display_name": "socal-air-quality",
   "language": "python",
   "name": "socal-air-quality"
  },
  "language_info": {
   "codemirror_mode": {
    "name": "ipython",
    "version": 3
   },
   "file_extension": ".py",
   "mimetype": "text/x-python",
   "name": "python",
   "nbconvert_exporter": "python",
   "pygments_lexer": "ipython3",
   "version": "3.10.2"
  }
 },
 "nbformat": 4,
 "nbformat_minor": 5
}
